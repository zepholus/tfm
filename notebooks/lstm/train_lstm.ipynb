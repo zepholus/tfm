{
 "cells": [
  {
   "cell_type": "code",
   "execution_count": 21,
   "metadata": {},
   "outputs": [
    {
     "name": "stdout",
     "output_type": "stream",
     "text": [
      "The autoreload extension is already loaded. To reload it, use:\n",
      "  %reload_ext autoreload\n"
     ]
    }
   ],
   "source": [
    "%load_ext autoreload\n",
    "%autoreload 2"
   ]
  },
  {
   "cell_type": "code",
   "execution_count": 22,
   "metadata": {},
   "outputs": [],
   "source": [
    "import tensorflow as tf\n",
    "import os\n",
    "from config.config import LSTM_DATA_DIR, LSTM_MODELS_DIR, LSTM_CALIBRATED_DIR, OBSERVACIONS_DIR, OBSERVACIONS_FILTRAT_DIR\n",
    "import pandas as pd\n",
    "import matplotlib.pyplot as plt\n",
    "import seaborn as sns\n",
    "\n",
    "from sklearn.preprocessing import StandardScaler\n",
    "from tensorflow import keras\n",
    "from keras.models import Sequential\n",
    "from keras.layers import Dense\n",
    "from keras.layers import LSTM\n",
    "from sklearn.model_selection import train_test_split\n",
    "from keras.preprocessing.sequence import TimeseriesGenerator\n",
    "import numpy as np\n",
    "import keras_tuner as kt\n",
    "import joblib\n",
    "from tensorflow.keras.layers import Dropout\n",
    "import keras.backend as K"
   ]
  },
  {
   "cell_type": "code",
   "execution_count": 23,
   "metadata": {},
   "outputs": [
    {
     "data": {
      "text/plain": [
       "[PhysicalDevice(name='/physical_device:GPU:0', device_type='GPU')]"
      ]
     },
     "execution_count": 23,
     "metadata": {},
     "output_type": "execute_result"
    }
   ],
   "source": [
    "tf.config.list_physical_devices('GPU')"
   ]
  },
  {
   "cell_type": "code",
   "execution_count": 24,
   "metadata": {},
   "outputs": [
    {
     "data": {
      "text/plain": [
       "'\\nmerged_train_all_stations = []\\nmerged_val_all_stations = []\\nmerged_test_all_stations = []\\n\\nn_input = 150\\n\\nn_features = 18\\n#n_features = 3\\n\\ntrain_normalization_features = []\\n\\n#get all the files in the directory\\nfiles = os.listdir(LSTM_DATA_DIR)\\n\\n#read all the files that are csv\\nfor file in files:\\n    if file.endswith(\".csv\"):\\n        df = pd.read_csv(os.path.join(LSTM_DATA_DIR / file))\\n\\n        #convert datetime to timestamp and make it the index\\n        df[\\'datetime\\'] = pd.to_datetime(df[\\'datetime\\'])\\n        df = df.set_index(\\'datetime\\')\\n\\n        #split between tain, validation and test\\n        n = len(df)\\n        train_df = df[0:int(n*0.7)]\\n        val_df = df[int(n*0.7):int(n*0.9)]\\n        test_df = df[int(n*0.9):]\\n\\n\\n        #Create the generator\\n        #X_train = train_df.values\\n        X_train = train_df.drop(\\'Flow\\', axis=1).values\\n        y_train = train_df[\\'Flow\\'].values\\n        \\n        #X_val = val_df.values\\n        X_val = val_df.drop(\\'Flow\\', axis=1).values\\n        y_val = val_df[\\'Flow\\'].values\\n\\n\\n        #X_test = test_df.values\\n        X_test = test_df.drop(\\'Flow\\', axis=1).values\\n        y_test = test_df[\\'Flow\\'].values\\n\\n        #store data for normalization\\n        train_normalization_features.extend(X_train)\\n\\n        train_generator = TimeseriesGenerator(X_train, y_train, length=n_input, batch_size=1)\\n        val_generator = TimeseriesGenerator(X_val, y_val, length=n_input, batch_size=1)\\n        test_generator = TimeseriesGenerator(X_test, y_test, length=n_input, batch_size=1)\\n\\n\\n        #Get [([info day 1, ..., info day n], flow observation)]\\n        merged_train = [(sample[0][0], sample[1][0]) for sample in train_generator]\\n        merged_val = [(sample[0][0], sample[1][0]) for sample in val_generator]\\n        merged_test = [(sample[0][0], sample[1][0]) for sample in test_generator]\\n\\n\\n        merged_train_all_stations.extend(merged_train)\\n        merged_val_all_stations.extend(merged_val)\\n        merged_test_all_stations.extend(merged_test)\\n    \\n'"
      ]
     },
     "execution_count": 24,
     "metadata": {},
     "output_type": "execute_result"
    }
   ],
   "source": [
    "\"\"\"\n",
    "SENSE ELIMINAR MOSTRES INCORRECTES, ÚNICAMENT SUBSTITUINT PER LA PREDICCIO SWAT\n",
    "\"\"\"\n",
    "\n",
    "\"\"\"\n",
    "merged_train_all_stations = []\n",
    "merged_val_all_stations = []\n",
    "merged_test_all_stations = []\n",
    "\n",
    "n_input = 150\n",
    "\n",
    "n_features = 18\n",
    "#n_features = 3\n",
    "\n",
    "train_normalization_features = []\n",
    "\n",
    "#get all the files in the directory\n",
    "files = os.listdir(LSTM_DATA_DIR)\n",
    "\n",
    "#read all the files that are csv\n",
    "for file in files:\n",
    "    if file.endswith(\".csv\"):\n",
    "        df = pd.read_csv(os.path.join(LSTM_DATA_DIR / file))\n",
    "\n",
    "        #convert datetime to timestamp and make it the index\n",
    "        df['datetime'] = pd.to_datetime(df['datetime'])\n",
    "        df = df.set_index('datetime')\n",
    "\n",
    "        #split between tain, validation and test\n",
    "        n = len(df)\n",
    "        train_df = df[0:int(n*0.7)]\n",
    "        val_df = df[int(n*0.7):int(n*0.9)]\n",
    "        test_df = df[int(n*0.9):]\n",
    "\n",
    "\n",
    "        #Create the generator\n",
    "        #X_train = train_df.values\n",
    "        X_train = train_df.drop('Flow', axis=1).values\n",
    "        y_train = train_df['Flow'].values\n",
    "        \n",
    "        #X_val = val_df.values\n",
    "        X_val = val_df.drop('Flow', axis=1).values\n",
    "        y_val = val_df['Flow'].values\n",
    "\n",
    "\n",
    "        #X_test = test_df.values\n",
    "        X_test = test_df.drop('Flow', axis=1).values\n",
    "        y_test = test_df['Flow'].values\n",
    "\n",
    "        #store data for normalization\n",
    "        train_normalization_features.extend(X_train)\n",
    "\n",
    "        train_generator = TimeseriesGenerator(X_train, y_train, length=n_input, batch_size=1)\n",
    "        val_generator = TimeseriesGenerator(X_val, y_val, length=n_input, batch_size=1)\n",
    "        test_generator = TimeseriesGenerator(X_test, y_test, length=n_input, batch_size=1)\n",
    "\n",
    "\n",
    "        #Get [([info day 1, ..., info day n], flow observation)]\n",
    "        merged_train = [(sample[0][0], sample[1][0]) for sample in train_generator]\n",
    "        merged_val = [(sample[0][0], sample[1][0]) for sample in val_generator]\n",
    "        merged_test = [(sample[0][0], sample[1][0]) for sample in test_generator]\n",
    "\n",
    "\n",
    "        merged_train_all_stations.extend(merged_train)\n",
    "        merged_val_all_stations.extend(merged_val)\n",
    "        merged_test_all_stations.extend(merged_test)\n",
    "    \n",
    "\"\"\""
   ]
  },
  {
   "cell_type": "code",
   "execution_count": 25,
   "metadata": {},
   "outputs": [],
   "source": [
    "\"\"\"\n",
    "ELIMINAR FINESTRES DE TEMPS ON EL VALOR A PREDIR ES INCORRECTE\n",
    "\"\"\"\n",
    "merged_train_all_stations = []\n",
    "merged_val_all_stations = []\n",
    "merged_test_all_stations = []\n",
    "\n",
    "n_input = 150\n",
    "\n",
    "n_features = 18\n",
    "#n_features = 3\n",
    "\n",
    "train_normalization_features = []\n",
    "\n",
    "#get all the files in the directory\n",
    "files = os.listdir(LSTM_DATA_DIR)\n",
    "\n",
    "#read all the files that are csv\n",
    "for file in files:\n",
    "    if file.endswith(\".csv\"):\n",
    "        df = pd.read_csv(os.path.join(LSTM_DATA_DIR / file))\n",
    "\n",
    "        #convert datetime to timestamp and make it the index\n",
    "        df['datetime'] = pd.to_datetime(df['datetime'])\n",
    "        df = df.set_index('datetime')\n",
    "\n",
    "        station = file.replace('_stats', '')\n",
    "\n",
    "\n",
    "        #marquem com a anomalia els valors que son nans al fitxer observacions_filtrat pero no al fitxer observacions original\n",
    "        df_observacions_originals = pd.read_csv(os.path.join(OBSERVACIONS_DIR / station), parse_dates = ['Date'])\n",
    "        df_observacions_filtrades = pd.read_csv(os.path.join(OBSERVACIONS_FILTRAT_DIR / station), parse_dates = ['Date'])\n",
    "\n",
    "        df_observacions_originals.rename(columns = {'Date': 'ds', 'Flow': 'y_original'}, inplace = True)\n",
    "        df_observacions_filtrades.rename(columns = {'Date': 'ds', 'Flow': 'y_original_filtrades'}, inplace = True)\n",
    "\n",
    "        df_observacions_originals.set_index('ds', inplace = True)\n",
    "        df_observacions_filtrades.set_index('ds', inplace = True)\n",
    "\n",
    "\n",
    "        #merge on index \n",
    "        df = pd.concat([df, df_observacions_originals, df_observacions_filtrades], axis=1)\n",
    "\n",
    "        #add column is anomaly, if y_original is not na and y_original_filtrades is na, then is anomaly\n",
    "        df['is_anomaly'] = df['y_original'].notna() & df['y_original_filtrades'].isna()\n",
    "\n",
    "\n",
    "\n",
    "        #split between tain, validation and test\n",
    "        n = len(df)\n",
    "        train_df = df[0:int(n*0.7)]\n",
    "        val_df = df[int(n*0.7):int(n*0.85)]\n",
    "        test_df = df[int(n*0.85):]\n",
    "\n",
    "\n",
    "        #Create the generator\n",
    "        #X_train = train_df.values\n",
    "        X_train = train_df.drop(['Flow', 'is_anomaly', 'y_original', 'y_original_filtrades'], axis=1).values\n",
    "        y_train = train_df[['Flow', 'is_anomaly']].values\n",
    "        \n",
    "        #X_val = val_df.values\n",
    "        X_val = val_df.drop(['Flow', 'is_anomaly', 'y_original', 'y_original_filtrades'], axis=1).values\n",
    "        y_val = val_df[['Flow', 'is_anomaly']].values\n",
    "\n",
    "\n",
    "        #X_test = test_df.values\n",
    "        X_test = test_df.drop(['Flow', 'is_anomaly', 'y_original', 'y_original_filtrades'], axis=1).values\n",
    "        y_test = test_df[['Flow', 'is_anomaly']].values\n",
    "\n",
    "        #store data for normalization\n",
    "        train_normalization_features.extend(X_train)\n",
    "\n",
    "        train_generator = TimeseriesGenerator(X_train, y_train, length=n_input, batch_size=1)\n",
    "        val_generator = TimeseriesGenerator(X_val, y_val, length=n_input, batch_size=1)\n",
    "        test_generator = TimeseriesGenerator(X_test, y_test, length=n_input, batch_size=1)\n",
    "\n",
    "\n",
    "        #Get [([info day 1, ..., info day n], flow observation)]\n",
    "        merged_train = [(sample[0][0], sample[1][0][0]) for sample in train_generator if not sample[1][0][1]]\n",
    "        merged_val = [(sample[0][0], sample[1][0][0]) for sample in val_generator if not sample[1][0][1]]\n",
    "        merged_test = [(sample[0][0], sample[1][0][0]) for sample in test_generator if not sample[1][0][1]]\n",
    "\n",
    "\n",
    "        merged_train_all_stations.extend(merged_train)\n",
    "        merged_val_all_stations.extend(merged_val)\n",
    "        merged_test_all_stations.extend(merged_test)\n"
   ]
  },
  {
   "cell_type": "code",
   "execution_count": 26,
   "metadata": {},
   "outputs": [
    {
     "data": {
      "text/html": [
       "<style>#sk-container-id-2 {color: black;background-color: white;}#sk-container-id-2 pre{padding: 0;}#sk-container-id-2 div.sk-toggleable {background-color: white;}#sk-container-id-2 label.sk-toggleable__label {cursor: pointer;display: block;width: 100%;margin-bottom: 0;padding: 0.3em;box-sizing: border-box;text-align: center;}#sk-container-id-2 label.sk-toggleable__label-arrow:before {content: \"▸\";float: left;margin-right: 0.25em;color: #696969;}#sk-container-id-2 label.sk-toggleable__label-arrow:hover:before {color: black;}#sk-container-id-2 div.sk-estimator:hover label.sk-toggleable__label-arrow:before {color: black;}#sk-container-id-2 div.sk-toggleable__content {max-height: 0;max-width: 0;overflow: hidden;text-align: left;background-color: #f0f8ff;}#sk-container-id-2 div.sk-toggleable__content pre {margin: 0.2em;color: black;border-radius: 0.25em;background-color: #f0f8ff;}#sk-container-id-2 input.sk-toggleable__control:checked~div.sk-toggleable__content {max-height: 200px;max-width: 100%;overflow: auto;}#sk-container-id-2 input.sk-toggleable__control:checked~label.sk-toggleable__label-arrow:before {content: \"▾\";}#sk-container-id-2 div.sk-estimator input.sk-toggleable__control:checked~label.sk-toggleable__label {background-color: #d4ebff;}#sk-container-id-2 div.sk-label input.sk-toggleable__control:checked~label.sk-toggleable__label {background-color: #d4ebff;}#sk-container-id-2 input.sk-hidden--visually {border: 0;clip: rect(1px 1px 1px 1px);clip: rect(1px, 1px, 1px, 1px);height: 1px;margin: -1px;overflow: hidden;padding: 0;position: absolute;width: 1px;}#sk-container-id-2 div.sk-estimator {font-family: monospace;background-color: #f0f8ff;border: 1px dotted black;border-radius: 0.25em;box-sizing: border-box;margin-bottom: 0.5em;}#sk-container-id-2 div.sk-estimator:hover {background-color: #d4ebff;}#sk-container-id-2 div.sk-parallel-item::after {content: \"\";width: 100%;border-bottom: 1px solid gray;flex-grow: 1;}#sk-container-id-2 div.sk-label:hover label.sk-toggleable__label {background-color: #d4ebff;}#sk-container-id-2 div.sk-serial::before {content: \"\";position: absolute;border-left: 1px solid gray;box-sizing: border-box;top: 0;bottom: 0;left: 50%;z-index: 0;}#sk-container-id-2 div.sk-serial {display: flex;flex-direction: column;align-items: center;background-color: white;padding-right: 0.2em;padding-left: 0.2em;position: relative;}#sk-container-id-2 div.sk-item {position: relative;z-index: 1;}#sk-container-id-2 div.sk-parallel {display: flex;align-items: stretch;justify-content: center;background-color: white;position: relative;}#sk-container-id-2 div.sk-item::before, #sk-container-id-2 div.sk-parallel-item::before {content: \"\";position: absolute;border-left: 1px solid gray;box-sizing: border-box;top: 0;bottom: 0;left: 50%;z-index: -1;}#sk-container-id-2 div.sk-parallel-item {display: flex;flex-direction: column;z-index: 1;position: relative;background-color: white;}#sk-container-id-2 div.sk-parallel-item:first-child::after {align-self: flex-end;width: 50%;}#sk-container-id-2 div.sk-parallel-item:last-child::after {align-self: flex-start;width: 50%;}#sk-container-id-2 div.sk-parallel-item:only-child::after {width: 0;}#sk-container-id-2 div.sk-dashed-wrapped {border: 1px dashed gray;margin: 0 0.4em 0.5em 0.4em;box-sizing: border-box;padding-bottom: 0.4em;background-color: white;}#sk-container-id-2 div.sk-label label {font-family: monospace;font-weight: bold;display: inline-block;line-height: 1.2em;}#sk-container-id-2 div.sk-label-container {text-align: center;}#sk-container-id-2 div.sk-container {/* jupyter's `normalize.less` sets `[hidden] { display: none; }` but bootstrap.min.css set `[hidden] { display: none !important; }` so we also need the `!important` here to be able to override the default hidden behavior on the sphinx rendered scikit-learn.org. See: https://github.com/scikit-learn/scikit-learn/issues/21755 */display: inline-block !important;position: relative;}#sk-container-id-2 div.sk-text-repr-fallback {display: none;}</style><div id=\"sk-container-id-2\" class=\"sk-top-container\"><div class=\"sk-text-repr-fallback\"><pre>StandardScaler()</pre><b>In a Jupyter environment, please rerun this cell to show the HTML representation or trust the notebook. <br />On GitHub, the HTML representation is unable to render, please try loading this page with nbviewer.org.</b></div><div class=\"sk-container\" hidden><div class=\"sk-item\"><div class=\"sk-estimator sk-toggleable\"><input class=\"sk-toggleable__control sk-hidden--visually\" id=\"sk-estimator-id-2\" type=\"checkbox\" checked><label for=\"sk-estimator-id-2\" class=\"sk-toggleable__label sk-toggleable__label-arrow\">StandardScaler</label><div class=\"sk-toggleable__content\"><pre>StandardScaler()</pre></div></div></div></div></div>"
      ],
      "text/plain": [
       "StandardScaler()"
      ]
     },
     "execution_count": 26,
     "metadata": {},
     "output_type": "execute_result"
    }
   ],
   "source": [
    "scaler = StandardScaler()\n",
    "scaler.fit(train_normalization_features)"
   ]
  },
  {
   "cell_type": "code",
   "execution_count": 27,
   "metadata": {},
   "outputs": [],
   "source": [
    "#shuffle the data\n",
    "#np.random.shuffle(merged_train_all_stations)\n",
    "#np.random.shuffle(merged_val_all_stations)\n",
    "\n",
    "X_train, y_train = zip(*merged_train_all_stations)\n",
    "X_val, y_val = zip(*merged_val_all_stations)\n",
    "X_test, y_test = zip(*merged_test_all_stations)\n",
    "\n",
    "\n",
    "X_train = np.array(X_train)\n",
    "y_train = np.array(y_train)\n",
    "\n",
    "X_val = np.array(X_val)\n",
    "y_val = np.array(y_val)\n",
    "\n",
    "X_test = np.array(X_test)\n",
    "y_test = np.array(y_test)"
   ]
  },
  {
   "cell_type": "code",
   "execution_count": 28,
   "metadata": {},
   "outputs": [
    {
     "data": {
      "text/plain": [
       "(177580, 150, 18)"
      ]
     },
     "execution_count": 28,
     "metadata": {},
     "output_type": "execute_result"
    }
   ],
   "source": [
    "X_train.shape"
   ]
  },
  {
   "cell_type": "code",
   "execution_count": 29,
   "metadata": {},
   "outputs": [
    {
     "data": {
      "text/plain": [
       "(34266, 150, 18)"
      ]
     },
     "execution_count": 29,
     "metadata": {},
     "output_type": "execute_result"
    }
   ],
   "source": [
    "X_val.shape"
   ]
  },
  {
   "cell_type": "code",
   "execution_count": 30,
   "metadata": {},
   "outputs": [
    {
     "data": {
      "text/plain": [
       "(33498, 150, 18)"
      ]
     },
     "execution_count": 30,
     "metadata": {},
     "output_type": "execute_result"
    }
   ],
   "source": [
    "X_test.shape"
   ]
  },
  {
   "cell_type": "code",
   "execution_count": 31,
   "metadata": {},
   "outputs": [],
   "source": [
    "#normalize the data\n",
    "\n",
    "X_train = np.array([scaler.transform(sample) for sample in X_train])\n",
    "X_val = np.array([scaler.transform(sample) for sample in X_val])\n",
    "X_test = np.array([scaler.transform(sample) for sample in X_test])"
   ]
  },
  {
   "cell_type": "code",
   "execution_count": 32,
   "metadata": {},
   "outputs": [],
   "source": [
    "\n",
    "def model_builder(hp):\n",
    "\n",
    "    model = Sequential()\n",
    "\n",
    "    # Choose an optimal value between 32-512\n",
    "    hp_units = hp.Int('units', min_value=64, max_value=256, step=32)\n",
    "    \n",
    "    model.add(LSTM(hp_units, input_shape=(X_train.shape[1], X_train.shape[2])))\n",
    "\n",
    "    hp_dropout = hp.Float('dropout', min_value=0, max_value=0.45, step=0.15)\n",
    "    model.add(Dropout(hp_dropout))\n",
    "\n",
    "    #add dropout layer\n",
    "    model.add(Dense(1, activation = 'relu'))  #force positive values\n",
    "\n",
    "    model.compile(loss=tf.keras.losses.MeanSquaredLogarithmicError(), optimizer='adam')\n",
    "    #model.compile(loss='mse', optimizer='adam')\n",
    "\n",
    "    return model\n",
    "\n"
   ]
  },
  {
   "cell_type": "code",
   "execution_count": 33,
   "metadata": {},
   "outputs": [
    {
     "name": "stdout",
     "output_type": "stream",
     "text": [
      "INFO:tensorflow:Reloading Tuner from my_dir\\log_mse_2\\tuner0.json\n"
     ]
    }
   ],
   "source": [
    "\n",
    "tuner = kt.BayesianOptimization(model_builder,\n",
    "                     objective='val_loss',\n",
    "                     max_trials=5,                          \n",
    "                     directory='my_dir',\n",
    "                     project_name='log_mse_2')\n",
    "\n",
    "\n"
   ]
  },
  {
   "cell_type": "code",
   "execution_count": 34,
   "metadata": {},
   "outputs": [],
   "source": [
    "stop_early = tf.keras.callbacks.EarlyStopping(monitor='val_loss', patience=4)\n"
   ]
  },
  {
   "cell_type": "code",
   "execution_count": 35,
   "metadata": {},
   "outputs": [
    {
     "name": "stdout",
     "output_type": "stream",
     "text": [
      "INFO:tensorflow:Oracle triggered exit\n",
      "The hyperparameter search is complete. The optimal number of units in the hidden states is 96 and the optimal learning rate for the optimizer is 0.3.\n"
     ]
    }
   ],
   "source": [
    "\n",
    "tuner.search(X_train, y_train, validation_data = (X_val, y_val), batch_size = 512, epochs = 30, callbacks=[stop_early])\n",
    "\n",
    "# Get the optimal hyperparameters\n",
    "best_hps=tuner.get_best_hyperparameters(num_trials=1)[0]\n",
    "\n",
    "print(f\"The hyperparameter search is complete. The optimal number of units in the hidden states is {best_hps.get('units')} and the optimal learning rate for the optimizer is {best_hps.get('dropout')}.\")\n"
   ]
  },
  {
   "cell_type": "code",
   "execution_count": 36,
   "metadata": {},
   "outputs": [
    {
     "name": "stdout",
     "output_type": "stream",
     "text": [
      "Epoch 1/30\n",
      "414/414 [==============================] - 31s 70ms/step - loss: 0.3237 - val_loss: 0.3304\n",
      "Epoch 2/30\n",
      "414/414 [==============================] - 49s 118ms/step - loss: 0.2060 - val_loss: 0.2986\n",
      "Epoch 3/30\n",
      "414/414 [==============================] - 48s 117ms/step - loss: 0.1874 - val_loss: 0.2865\n",
      "Epoch 4/30\n",
      "414/414 [==============================] - 47s 115ms/step - loss: 0.1772 - val_loss: 0.3004\n",
      "Epoch 5/30\n",
      "414/414 [==============================] - 48s 115ms/step - loss: 0.1707 - val_loss: 0.2711\n",
      "Epoch 6/30\n",
      "414/414 [==============================] - 47s 115ms/step - loss: 0.1606 - val_loss: 0.2789\n",
      "Epoch 7/30\n",
      "414/414 [==============================] - 47s 115ms/step - loss: 0.1643 - val_loss: 0.2693\n",
      "Epoch 8/30\n",
      "414/414 [==============================] - 47s 115ms/step - loss: 0.1538 - val_loss: 0.2648\n",
      "Epoch 9/30\n",
      "414/414 [==============================] - 47s 115ms/step - loss: 0.1475 - val_loss: 0.2575\n",
      "Epoch 10/30\n",
      "414/414 [==============================] - 47s 115ms/step - loss: 0.1377 - val_loss: 0.2436\n",
      "Epoch 11/30\n",
      "414/414 [==============================] - 47s 115ms/step - loss: 0.1346 - val_loss: 0.2580\n",
      "Epoch 12/30\n",
      "414/414 [==============================] - 47s 115ms/step - loss: 0.1307 - val_loss: 0.2386\n",
      "Epoch 13/30\n",
      "414/414 [==============================] - 47s 115ms/step - loss: 0.1276 - val_loss: 0.2840\n",
      "Epoch 14/30\n",
      "414/414 [==============================] - 47s 115ms/step - loss: 0.1273 - val_loss: 0.2598\n",
      "Epoch 15/30\n",
      "414/414 [==============================] - 47s 115ms/step - loss: 0.1187 - val_loss: 0.2532\n",
      "Epoch 16/30\n",
      "414/414 [==============================] - 47s 115ms/step - loss: 0.1151 - val_loss: 0.2683\n"
     ]
    }
   ],
   "source": [
    "hypermodel = tuner.hypermodel.build(best_hps)\n",
    "\n",
    "X_train = np.concatenate((X_train, X_val))\n",
    "y_train = np.concatenate((y_train, y_val))\n",
    "\n",
    "# Retrain the model\n",
    "#history = hypermodel.fit(X_train, y_train, epochs=best_epoch, batch_size = 32, validation_data = (X_test, y_test))\n",
    "history = hypermodel.fit(X_train, y_train, epochs=30, batch_size = 512, validation_data = (X_test, y_test), callbacks=[stop_early])\n",
    "\n",
    "\n",
    "hypermodel.save(LSTM_CALIBRATED_DIR / 'lstm_hypermodel_log_mse.h5')"
   ]
  },
  {
   "cell_type": "code",
   "execution_count": 37,
   "metadata": {},
   "outputs": [
    {
     "data": {
      "text/plain": [
       "['c:\\\\users\\\\joans\\\\onedrive\\\\escriptori\\\\master\\\\tfm\\\\tfm\\\\data\\\\lstm_calibrated\\\\lstm_scaler.pkl']"
      ]
     },
     "execution_count": 37,
     "metadata": {},
     "output_type": "execute_result"
    }
   ],
   "source": [
    "#store the scaler\n",
    "joblib.dump(scaler, LSTM_CALIBRATED_DIR / 'lstm_scaler.pkl')"
   ]
  },
  {
   "cell_type": "code",
   "execution_count": 38,
   "metadata": {},
   "outputs": [
    {
     "name": "stdout",
     "output_type": "stream",
     "text": [
      "1047/1047 [==============================] - 6s 5ms/step - loss: 0.2683\n",
      "[test loss, test accuracy]: 0.2683390974998474\n"
     ]
    }
   ],
   "source": [
    "eval_result = hypermodel.evaluate(X_test, y_test)\n",
    "print(\"[test loss, test accuracy]:\", eval_result)\n"
   ]
  },
  {
   "cell_type": "code",
   "execution_count": 39,
   "metadata": {},
   "outputs": [
    {
     "data": {
      "image/png": "[encoded data removed]",
      "text/plain": [
       "<Figure size 640x480 with 1 Axes>"
      ]
     },
     "metadata": {},
     "output_type": "display_data"
    }
   ],
   "source": [
    "# plot history\n",
    "plt.plot(history.history['loss'], label='train')\n",
    "plt.plot(history.history['val_loss'], label='test')\n",
    "plt.legend()\n",
    "plt.show()"
   ]
  },
  {
   "cell_type": "code",
   "execution_count": 40,
   "metadata": {},
   "outputs": [
    {
     "data": {
      "text/plain": [
       "\"\\n# design network\\nmodel = Sequential()\\n\\nmodel.add(LSTM(224, input_shape=(X_train.shape[1], X_train.shape[2]), dropout=0.15))\\nmodel.add(Dense(1))\\nmodel.compile(loss='mae', optimizer='adam')\\n# fit network\\nhistory = model.fit(X_train, y_train, epochs=15, batch_size=128, validation_data=(X_val, y_val), verbose=1, shuffle=True, callbacks=[stop_early])\\n# plot history\\nplt.plot(history.history['loss'], label='train')\\nplt.plot(history.history['val_loss'], label='test')\\nplt.legend()\\nplt.show()\\n\""
      ]
     },
     "execution_count": 40,
     "metadata": {},
     "output_type": "execute_result"
    }
   ],
   "source": [
    "\"\"\"\n",
    "# design network\n",
    "model = Sequential()\n",
    "\n",
    "model.add(LSTM(224, input_shape=(X_train.shape[1], X_train.shape[2]), dropout=0.15))\n",
    "model.add(Dense(1))\n",
    "model.compile(loss='mae', optimizer='adam')\n",
    "# fit network\n",
    "history = model.fit(X_train, y_train, epochs=15, batch_size=128, validation_data=(X_val, y_val), verbose=1, shuffle=True, callbacks=[stop_early])\n",
    "# plot history\n",
    "plt.plot(history.history['loss'], label='train')\n",
    "plt.plot(history.history['val_loss'], label='test')\n",
    "plt.legend()\n",
    "plt.show()\n",
    "\"\"\""
   ]
  },
  {
   "cell_type": "code",
   "execution_count": null,
   "metadata": {},
   "outputs": [],
   "source": []
  }
 ],
 "metadata": {
  "kernelspec": {
   "display_name": "tfm",
   "language": "python",
   "name": "python3"
  },
  "language_info": {
   "codemirror_mode": {
    "name": "ipython",
    "version": 3
   },
   "file_extension": ".py",
   "mimetype": "text/x-python",
   "name": "python",
   "nbconvert_exporter": "python",
   "pygments_lexer": "ipython3",
   "version": "3.9.16"
  },
  "orig_nbformat": 4
 },
 "nbformat": 4,
 "nbformat_minor": 2
}
