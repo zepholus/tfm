{
 "cells": [
  {
   "cell_type": "code",
   "execution_count": 1,
   "metadata": {},
   "outputs": [],
   "source": [
    "%load_ext autoreload\n",
    "%autoreload 2"
   ]
  },
  {
   "cell_type": "code",
   "execution_count": 2,
   "metadata": {},
   "outputs": [],
   "source": [
    "import tensorflow as tf\n",
    "import os\n",
    "from config.config import LSTM_DATA_DIR, LSTM_MODELS_DIR, LSTM_CALIBRATED_DIR, SWAT_PREDICTIONS_DIR, OBSERVACIONS_DIR, OBSERVACIONS_FILTRAT_DIR\n",
    "import pandas as pd\n",
    "import matplotlib.pyplot as plt\n",
    "import seaborn as sns\n",
    "\n",
    "from sklearn.preprocessing import StandardScaler\n",
    "from tensorflow import keras\n",
    "from keras.models import Sequential\n",
    "from keras.layers import Dense\n",
    "from keras.layers import LSTM\n",
    "from sklearn.model_selection import train_test_split\n",
    "from keras.preprocessing.sequence import TimeseriesGenerator\n",
    "import numpy as np\n",
    "import keras_tuner as kt\n",
    "import joblib\n",
    "from tensorflow.keras.layers import Dropout\n"
   ]
  },
  {
   "cell_type": "code",
   "execution_count": 3,
   "metadata": {},
   "outputs": [
    {
     "data": {
      "text/plain": [
       "[PhysicalDevice(name='/physical_device:GPU:0', device_type='GPU')]"
      ]
     },
     "execution_count": 3,
     "metadata": {},
     "output_type": "execute_result"
    }
   ],
   "source": [
    "tf.config.list_physical_devices('GPU')"
   ]
  },
  {
   "cell_type": "code",
   "execution_count": 4,
   "metadata": {},
   "outputs": [],
   "source": [
    "scaler = joblib.load(LSTM_CALIBRATED_DIR / 'lstm_scaler_5.pkl')\n",
    "model = keras.models.load_model(LSTM_CALIBRATED_DIR / 'lstm_hypermodel_5.h5')"
   ]
  },
  {
   "cell_type": "code",
   "execution_count": 5,
   "metadata": {},
   "outputs": [],
   "source": [
    "\n",
    "merged_train_all_stations = []\n",
    "merged_val_all_stations = []\n",
    "\n",
    "n_input = 150\n",
    "n_features = 18\n",
    "#n_features = 3\n",
    "\n",
    "#get all the files in the directory\n",
    "files = os.listdir(LSTM_DATA_DIR)\n",
    "\n",
    "#read all the files that are csv\n",
    "for file in files:\n",
    "    if file.endswith(\".csv\"):\n",
    "        df = pd.read_csv(os.path.join(LSTM_DATA_DIR / file))\n",
    "\n",
    "\n",
    "        #convert datetime to timestamp and make it the index\n",
    "        df['datetime'] = pd.to_datetime(df['datetime'])\n",
    "        df = df.set_index('datetime')\n",
    "\n",
    "        \n",
    "        #split between tain, validation and test\n",
    "        n = len(df)\n",
    "        train_df = df[0:int(n*0.85)]\n",
    "        val_df = df[int(n*0.85):]\n",
    "\n",
    "\n",
    "        #Create the generator\n",
    "        #X_train = train_df.values\n",
    "        #X_train = train_df[['Flow', 'precipitation', 'temperature']].values\n",
    "        X_train = train_df.drop(columns=['Flow']).values\n",
    "        y_train = train_df['Flow'].values\n",
    "        \n",
    "        #X_val = val_df.values\n",
    "        #X_val = val_df[['Flow', 'precipitation', 'temperature']].values\n",
    "        X_val = val_df.drop(columns=['Flow']).values\n",
    "        y_val = val_df['Flow'].values\n",
    "\n",
    "\n",
    "\n",
    "        X_train = scaler.transform(X_train)\n",
    "        X_val = scaler.transform(X_val)\n",
    "\n",
    "\n",
    "        train_generator = TimeseriesGenerator(X_train, y_train, length=n_input, batch_size=1)\n",
    "        val_generator = TimeseriesGenerator(X_val, y_val, length=n_input, batch_size=1)\n",
    "\n",
    "\n",
    "        #Get [([info day 1, ..., info day n], flow observation)]\n",
    "        merged_train = [(sample[0][0], sample[1][0]) for sample in train_generator]\n",
    "        merged_val = [(sample[0][0], sample[1][0]) for sample in val_generator]\n",
    "\n",
    "\n",
    "        merged_train_all_stations.extend(merged_train)\n",
    "        merged_val_all_stations.extend(merged_val)\n",
    "\n"
   ]
  },
  {
   "cell_type": "code",
   "execution_count": 6,
   "metadata": {},
   "outputs": [],
   "source": [
    "#shuffle the data\n",
    "#np.random.shuffle(merged_train_all_stations)\n",
    "#np.random.shuffle(merged_val_all_stations)\n",
    "\n",
    "X_train, y_train = zip(*merged_train_all_stations)\n",
    "X_val, y_val = zip(*merged_val_all_stations)\n",
    "\n",
    "\n",
    "X_train = np.array(X_train)\n",
    "y_train = np.array(y_train)\n",
    "\n",
    "X_val = np.array(X_val)\n",
    "y_val = np.array(y_val)\n"
   ]
  },
  {
   "cell_type": "code",
   "execution_count": 7,
   "metadata": {},
   "outputs": [],
   "source": [
    "model1 = Sequential()\n",
    "\n",
    "\n",
    "for layer in model.layers[:-1]:\n",
    "    model1.add(layer)\n",
    "\n",
    "\n",
    "# Freeze all the layers of base model\n",
    "for layer in model.layers:\n",
    "    layer.trainable=False\n",
    " \n",
    "# adding new layers\n",
    "#model1.add(Dense(50,input_dim=1))\n",
    "model1.add(Dense(1, activation='relu'))\n",
    "\n",
    "model1.compile(loss=tf.keras.losses.MeanSquaredLogarithmicError(), optimizer='adam')\n",
    "#model1.compile(loss='mae', optimizer='adam')\n"
   ]
  },
  {
   "cell_type": "code",
   "execution_count": 8,
   "metadata": {},
   "outputs": [],
   "source": [
    "stop_early = tf.keras.callbacks.EarlyStopping(monitor='val_loss', patience=4)\n"
   ]
  },
  {
   "cell_type": "code",
   "execution_count": 9,
   "metadata": {},
   "outputs": [
    {
     "name": "stdout",
     "output_type": "stream",
     "text": [
      "Epoch 1/30\n",
      "6862/6862 [==============================] - 51s 7ms/step - loss: 0.2372 - val_loss: 0.2697\n",
      "Epoch 2/30\n",
      "6862/6862 [==============================] - 48s 7ms/step - loss: 0.2050 - val_loss: 0.2659\n",
      "Epoch 3/30\n",
      "6862/6862 [==============================] - 47s 7ms/step - loss: 0.2033 - val_loss: 0.2608\n",
      "Epoch 4/30\n",
      "6862/6862 [==============================] - 48s 7ms/step - loss: 0.2030 - val_loss: 0.2587\n",
      "Epoch 5/30\n",
      "6862/6862 [==============================] - 48s 7ms/step - loss: 0.2027 - val_loss: 0.2660\n",
      "Epoch 6/30\n",
      "6862/6862 [==============================] - 47s 7ms/step - loss: 0.2031 - val_loss: 0.2636\n",
      "Epoch 7/30\n",
      "6862/6862 [==============================] - 47s 7ms/step - loss: 0.2029 - val_loss: 0.2601\n",
      "Epoch 8/30\n",
      "6862/6862 [==============================] - 47s 7ms/step - loss: 0.2028 - val_loss: 0.2616\n"
     ]
    }
   ],
   "source": [
    "history = model1.fit(X_train, y_train, epochs=30, validation_data = (X_val, y_val), callbacks=[stop_early])\n"
   ]
  },
  {
   "cell_type": "code",
   "execution_count": 10,
   "metadata": {},
   "outputs": [],
   "source": [
    "#store model\n",
    "model1.save(LSTM_CALIBRATED_DIR / 'lstm_transfer_learning.h5')"
   ]
  },
  {
   "cell_type": "code",
   "execution_count": 11,
   "metadata": {},
   "outputs": [
    {
     "data": {
      "image/png": "[encoded data removed]",
      "text/plain": [
       "<Figure size 640x480 with 1 Axes>"
      ]
     },
     "metadata": {},
     "output_type": "display_data"
    }
   ],
   "source": [
    "# plot history\n",
    "plt.plot(history.history['loss'], label='train')\n",
    "plt.plot(history.history['val_loss'], label='test')\n",
    "plt.legend()\n",
    "plt.show()"
   ]
  }
 ],
 "metadata": {
  "kernelspec": {
   "display_name": "tfm",
   "language": "python",
   "name": "python3"
  },
  "language_info": {
   "codemirror_mode": {
    "name": "ipython",
    "version": 3
   },
   "file_extension": ".py",
   "mimetype": "text/x-python",
   "name": "python",
   "nbconvert_exporter": "python",
   "pygments_lexer": "ipython3",
   "version": "3.9.16"
  },
  "orig_nbformat": 4
 },
 "nbformat": 4,
 "nbformat_minor": 2
}
