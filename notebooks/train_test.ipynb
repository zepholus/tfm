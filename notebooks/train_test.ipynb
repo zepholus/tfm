{
 "cells": [
  {
   "cell_type": "code",
   "execution_count": 16,
   "metadata": {},
   "outputs": [
    {
     "name": "stdout",
     "output_type": "stream",
     "text": [
      "The autoreload extension is already loaded. To reload it, use:\n",
      "  %reload_ext autoreload\n"
     ]
    }
   ],
   "source": [
    "%load_ext autoreload\n",
    "%autoreload 2"
   ]
  },
  {
   "cell_type": "code",
   "execution_count": 17,
   "metadata": {},
   "outputs": [],
   "source": [
    "import pandas as pd\n",
    "import shutil\n",
    "from pathlib import Path\n",
    "from config.config import OBSERVACIONS_DIR, TRAIN_TEST_INDEX_DIR, TRAIN_TEST_SERIES_DIR"
   ]
  },
  {
   "cell_type": "code",
   "execution_count": 18,
   "metadata": {},
   "outputs": [],
   "source": [
    "#if folder train_test_series_dir exists, delete it\n",
    "if TRAIN_TEST_SERIES_DIR.exists():\n",
    "    shutil.rmtree(TRAIN_TEST_SERIES_DIR)\n",
    "\n",
    "#Create it again\n",
    "TRAIN_TEST_SERIES_DIR.mkdir()\n",
    "\n",
    "\n",
    "#inside it, create folder called train and test\n",
    "(TRAIN_TEST_SERIES_DIR / 'train').mkdir()\n",
    "(TRAIN_TEST_SERIES_DIR / 'test').mkdir()"
   ]
  },
  {
   "cell_type": "code",
   "execution_count": 19,
   "metadata": {},
   "outputs": [],
   "source": [
    "#for each file in TRAIN_TEST_DIR, read csv\n",
    "\n",
    "for file in TRAIN_TEST_INDEX_DIR.glob('*.csv'):\n",
    "\n",
    "\n",
    "    #get name of file without extension\n",
    "    file_name = file.stem\n",
    "\n",
    "    #split by _ and remove first element\n",
    "    cal_val, station = file_name.split('_')[1:]\n",
    "\n",
    "    original_timeseries_df = pd.read_csv(OBSERVACIONS_DIR / f'{station}.csv', parse_dates=True)\n",
    "\n",
    "    #new column with index + 1\n",
    "    original_timeseries_df['index'] = original_timeseries_df.index + 1\n",
    "\n",
    "    indexs_df = pd.read_csv(file)\n",
    "\n",
    "    #change the only column name to index\n",
    "    indexs_df.columns = ['index']\n",
    "\n",
    "    #merge original_timeseries_df with indexs_df\n",
    "    original_timeseries_df = pd.merge(original_timeseries_df, indexs_df, on='index')[['Date', 'Flow']].set_index('Date')\n",
    "\n",
    "    train_test = 'train' if cal_val == 'cal' else 'test'\n",
    "\n",
    "    #save to csv\n",
    "    original_timeseries_df.to_csv(TRAIN_TEST_SERIES_DIR / train_test / f'{station}.csv')\n"
   ]
  }
 ],
 "metadata": {
  "kernelspec": {
   "display_name": "tfm",
   "language": "python",
   "name": "python3"
  },
  "language_info": {
   "codemirror_mode": {
    "name": "ipython",
    "version": 3
   },
   "file_extension": ".py",
   "mimetype": "text/x-python",
   "name": "python",
   "nbconvert_exporter": "python",
   "pygments_lexer": "ipython3",
   "version": "3.9.16"
  },
  "orig_nbformat": 4,
  "vscode": {
   "interpreter": {
    "hash": "d5a644dc773c5096c76f4c062a88c87f8963b6e30385533c0c0efd9c972523b3"
   }
  }
 },
 "nbformat": 4,
 "nbformat_minor": 2
}
