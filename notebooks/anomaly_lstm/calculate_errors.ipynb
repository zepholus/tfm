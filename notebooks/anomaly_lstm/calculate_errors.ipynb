{
 "cells": [
  {
   "cell_type": "code",
   "execution_count": 1,
   "metadata": {},
   "outputs": [],
   "source": [
    "%load_ext autoreload\n",
    "%autoreload 2"
   ]
  },
  {
   "cell_type": "code",
   "execution_count": 2,
   "metadata": {},
   "outputs": [],
   "source": [
    "from config.config import LSTM_DATA_DIR, OBSERVACIONS_FILTRAT_DIR, LSTM_PREDICTIONS_DIR, OBSERVACIONS_DIR, AUTOENCODER_DIR\n",
    "import pandas as pd\n",
    "import os\n",
    "from keras.preprocessing.sequence import TimeseriesGenerator\n",
    "import numpy as np\n",
    "from keras.layers import Input, Dropout, Dense, LSTM, TimeDistributed, RepeatVector\n",
    "from keras import regularizers\n",
    "from keras.models import Model\n",
    "from sklearn.preprocessing import MinMaxScaler, StandardScaler\n",
    "import matplotlib.pyplot as plt\n",
    "import joblib\n",
    "from src.LSTM import flatten, scale_data_anomaly_detection"
   ]
  },
  {
   "cell_type": "code",
   "execution_count": 3,
   "metadata": {},
   "outputs": [],
   "source": [
    "#get all the files in the directory\n",
    "files = os.listdir(LSTM_PREDICTIONS_DIR)"
   ]
  },
  {
   "cell_type": "code",
   "execution_count": 4,
   "metadata": {},
   "outputs": [],
   "source": [
    "data_all_stations = []\n",
    "data_all_stations_test = []\n",
    "normalization_features = []\n",
    "input_length = 14\n",
    "\n",
    "#read all the files that are csv\n",
    "for file in files:\n",
    "    if file.endswith(\".csv\"):\n",
    "\n",
    "\n",
    "        df = pd.read_csv(os.path.join(LSTM_PREDICTIONS_DIR / file))\n",
    "\n",
    "        df['ds'] = pd.to_datetime(df['ds'])\n",
    "\n",
    "        #marquem com a anomalia els valors que son nans al fitxer observacions_filtrat pero no al fitxer observacions original\n",
    "        df_observacions_originals = pd.read_csv(os.path.join(OBSERVACIONS_DIR / file), parse_dates = ['Date'])\n",
    "        df_observacions_filtrades = pd.read_csv(os.path.join(OBSERVACIONS_FILTRAT_DIR / file), parse_dates = ['Date'])\n",
    "\n",
    "        df_observacions_originals.rename(columns = {'Date': 'ds', 'Flow': 'y_original'}, inplace = True)\n",
    "        df_observacions_filtrades.rename(columns = {'Date': 'ds', 'Flow': 'y_original_filtrades'}, inplace = True)\n",
    "\n",
    "        df = df.merge(df_observacions_originals, on = 'ds', how = 'left')\n",
    "        df = df.merge(df_observacions_filtrades, on = 'ds', how = 'left')\n",
    "\n",
    "\n",
    "        #add column is anomaly, if y_original is not na and y_original_filtrades is na, then is anomaly\n",
    "        #df['is_anomaly'] = df['y_original'].notna() & df['y_original_filtrades'].isna()\n",
    "        df['is_anomaly'] = df['y_original_filtrades'].isna()    #train autoencoder without anomaly or empty data\n",
    "\n",
    "        #Afegim els 150 de la finestra de look-back (traiem l'últim 15% tenint en compte la serie sencera)\n",
    "        n = len(df) + 150 \n",
    "\n",
    "        df_train = df[:int(n*0.85)]\n",
    "        df_test = df[int(n*0.85):]\n",
    "\n",
    "\n",
    "        #duplicate last row with concat\n",
    "        df_train = pd.concat([df_train, df_train.iloc[[-1]]])\n",
    "        df_test = pd.concat([df_test, df_test.iloc[[-1]]])\n",
    "\n",
    "        #move is_anomaly values to next row. That way, generator will return [(sliding window of 14 values, is_anomaly of 14th value))]\n",
    "        df_train['is_anomaly'] = df_train['is_anomaly'].shift(+1)\n",
    "        df_test['is_anomaly'] = df_test['is_anomaly'].shift(+1)\n",
    "\n",
    "        generator = TimeseriesGenerator(df_train[['y', 'yhat']].values, df_train['is_anomaly'].values, length=14, batch_size=1)\n",
    "        test_generator = TimeseriesGenerator(df_test[['y', 'yhat']].values, df_test['is_anomaly'].values, length=14, batch_size=1)\n",
    "\n",
    "\n",
    "        merged_generator = np.array([sample[0][0] for sample in generator if not sample[1][0]])\n",
    "        merged_generator_test = np.array([sample[0][0] for sample in test_generator if not sample[1][0]])\n",
    "\n",
    "        data_all_stations.extend(merged_generator)\n",
    "        data_all_stations_test.extend(merged_generator_test)"
   ]
  },
  {
   "cell_type": "code",
   "execution_count": 5,
   "metadata": {},
   "outputs": [],
   "source": [
    "X_train = scale_data_anomaly_detection(data_all_stations)\n",
    "X_test = scale_data_anomaly_detection(data_all_stations_test)"
   ]
  },
  {
   "cell_type": "code",
   "execution_count": 6,
   "metadata": {},
   "outputs": [],
   "source": [
    "def autoencoder_model(X):\n",
    "    inputs = Input(shape = (X.shape[1], X.shape[2]))\n",
    "    L1 = LSTM(32, return_sequences=True)(inputs)\n",
    "    L2 = LSTM(16, return_sequences=False)(L1)\n",
    "    L3 = RepeatVector(X.shape[1])(L2)\n",
    "    L4 = LSTM(16, return_sequences=True)(L3)\n",
    "    L5 = LSTM(32, return_sequences=True)(L4)\n",
    "    output = TimeDistributed(Dense(X.shape[2]))(L5)\n",
    "    model = Model(inputs=inputs, outputs=output)\n",
    "    return model"
   ]
  },
  {
   "cell_type": "code",
   "execution_count": 7,
   "metadata": {},
   "outputs": [
    {
     "name": "stdout",
     "output_type": "stream",
     "text": [
      "Model: \"model\"\n",
      "_________________________________________________________________\n",
      " Layer (type)                Output Shape              Param #   \n",
      "=================================================================\n",
      " input_1 (InputLayer)        [(None, 14, 2)]           0         \n",
      "                                                                 \n",
      " lstm (LSTM)                 (None, 14, 32)            4480      \n",
      "                                                                 \n",
      " lstm_1 (LSTM)               (None, 16)                3136      \n",
      "                                                                 \n",
      " repeat_vector (RepeatVector  (None, 14, 16)           0         \n",
      " )                                                               \n",
      "                                                                 \n",
      " lstm_2 (LSTM)               (None, 14, 16)            2112      \n",
      "                                                                 \n",
      " lstm_3 (LSTM)               (None, 14, 32)            6272      \n",
      "                                                                 \n",
      " time_distributed (TimeDistr  (None, 14, 2)            66        \n",
      " ibuted)                                                         \n",
      "                                                                 \n",
      "=================================================================\n",
      "Total params: 16,066\n",
      "Trainable params: 16,066\n",
      "Non-trainable params: 0\n",
      "_________________________________________________________________\n"
     ]
    }
   ],
   "source": [
    "model = autoencoder_model(X_train)\n",
    "model.compile(optimizer='adam', loss='mae')\n",
    "model.summary()"
   ]
  },
  {
   "cell_type": "code",
   "execution_count": 8,
   "metadata": {},
   "outputs": [
    {
     "name": "stdout",
     "output_type": "stream",
     "text": [
      "Epoch 1/50\n",
      "2171/2171 [==============================] - 27s 10ms/step - loss: 0.1030 - val_loss: 0.0856\n",
      "Epoch 2/50\n",
      "2171/2171 [==============================] - 21s 10ms/step - loss: 0.0810 - val_loss: 0.0765\n",
      "Epoch 3/50\n",
      "2171/2171 [==============================] - 22s 10ms/step - loss: 0.0739 - val_loss: 0.0693\n",
      "Epoch 4/50\n",
      "2171/2171 [==============================] - 22s 10ms/step - loss: 0.0694 - val_loss: 0.0666\n",
      "Epoch 5/50\n",
      "2171/2171 [==============================] - 21s 10ms/step - loss: 0.0676 - val_loss: 0.0659\n",
      "Epoch 6/50\n",
      "2171/2171 [==============================] - 21s 10ms/step - loss: 0.0657 - val_loss: 0.0620\n",
      "Epoch 7/50\n",
      "2171/2171 [==============================] - 21s 10ms/step - loss: 0.0613 - val_loss: 0.0570\n",
      "Epoch 8/50\n",
      "2171/2171 [==============================] - 22s 10ms/step - loss: 0.0583 - val_loss: 0.0553\n",
      "Epoch 9/50\n",
      "2171/2171 [==============================] - 21s 10ms/step - loss: 0.0567 - val_loss: 0.0543\n",
      "Epoch 10/50\n",
      "2171/2171 [==============================] - 21s 10ms/step - loss: 0.0555 - val_loss: 0.0527\n",
      "Epoch 11/50\n",
      "2171/2171 [==============================] - 21s 10ms/step - loss: 0.0538 - val_loss: 0.0499\n",
      "Epoch 12/50\n",
      "2171/2171 [==============================] - 22s 10ms/step - loss: 0.0515 - val_loss: 0.0482\n",
      "Epoch 13/50\n",
      "2171/2171 [==============================] - 21s 10ms/step - loss: 0.0495 - val_loss: 0.0461\n",
      "Epoch 14/50\n",
      "2171/2171 [==============================] - 21s 10ms/step - loss: 0.0479 - val_loss: 0.0445\n",
      "Epoch 15/50\n",
      "2171/2171 [==============================] - 21s 10ms/step - loss: 0.0470 - val_loss: 0.0439\n",
      "Epoch 16/50\n",
      "2171/2171 [==============================] - 21s 10ms/step - loss: 0.0463 - val_loss: 0.0436\n",
      "Epoch 17/50\n",
      "2171/2171 [==============================] - 21s 10ms/step - loss: 0.0457 - val_loss: 0.0427\n",
      "Epoch 18/50\n",
      "2171/2171 [==============================] - 21s 10ms/step - loss: 0.0452 - val_loss: 0.0421\n",
      "Epoch 19/50\n",
      "2171/2171 [==============================] - 21s 10ms/step - loss: 0.0448 - val_loss: 0.0414\n",
      "Epoch 20/50\n",
      "2171/2171 [==============================] - 21s 10ms/step - loss: 0.0442 - val_loss: 0.0406\n",
      "Epoch 21/50\n",
      "2171/2171 [==============================] - 21s 10ms/step - loss: 0.0436 - val_loss: 0.0403\n",
      "Epoch 22/50\n",
      "2171/2171 [==============================] - 21s 10ms/step - loss: 0.0424 - val_loss: 0.0394\n",
      "Epoch 23/50\n",
      "2171/2171 [==============================] - 21s 10ms/step - loss: 0.0410 - val_loss: 0.0374\n",
      "Epoch 24/50\n",
      "2171/2171 [==============================] - 21s 10ms/step - loss: 0.0399 - val_loss: 0.0369\n",
      "Epoch 25/50\n",
      "2171/2171 [==============================] - 21s 10ms/step - loss: 0.0391 - val_loss: 0.0360\n",
      "Epoch 26/50\n",
      "2171/2171 [==============================] - 21s 10ms/step - loss: 0.0385 - val_loss: 0.0350\n",
      "Epoch 27/50\n",
      "2171/2171 [==============================] - 21s 10ms/step - loss: 0.0380 - val_loss: 0.0346\n",
      "Epoch 28/50\n",
      "2171/2171 [==============================] - 21s 10ms/step - loss: 0.0375 - val_loss: 0.0349\n",
      "Epoch 29/50\n",
      "2171/2171 [==============================] - 21s 10ms/step - loss: 0.0369 - val_loss: 0.0334\n",
      "Epoch 30/50\n",
      "2171/2171 [==============================] - 21s 10ms/step - loss: 0.0363 - val_loss: 0.0331\n",
      "Epoch 31/50\n",
      "2171/2171 [==============================] - 21s 10ms/step - loss: 0.0358 - val_loss: 0.0325\n",
      "Epoch 32/50\n",
      "2171/2171 [==============================] - 21s 10ms/step - loss: 0.0355 - val_loss: 0.0324\n",
      "Epoch 33/50\n",
      "2171/2171 [==============================] - 21s 10ms/step - loss: 0.0351 - val_loss: 0.0322\n",
      "Epoch 34/50\n",
      "2171/2171 [==============================] - 21s 10ms/step - loss: 0.0348 - val_loss: 0.0316\n",
      "Epoch 35/50\n",
      "2171/2171 [==============================] - 21s 10ms/step - loss: 0.0346 - val_loss: 0.0311\n",
      "Epoch 36/50\n",
      "2171/2171 [==============================] - 21s 10ms/step - loss: 0.0342 - val_loss: 0.0313\n",
      "Epoch 37/50\n",
      "2171/2171 [==============================] - 21s 10ms/step - loss: 0.0339 - val_loss: 0.0305\n",
      "Epoch 38/50\n",
      "2171/2171 [==============================] - 21s 10ms/step - loss: 0.0334 - val_loss: 0.0305\n",
      "Epoch 39/50\n",
      "2171/2171 [==============================] - 21s 10ms/step - loss: 0.0329 - val_loss: 0.0295\n",
      "Epoch 40/50\n",
      "2171/2171 [==============================] - 21s 10ms/step - loss: 0.0326 - val_loss: 0.0295\n",
      "Epoch 41/50\n",
      "2171/2171 [==============================] - 21s 10ms/step - loss: 0.0324 - val_loss: 0.0291\n",
      "Epoch 42/50\n",
      "2171/2171 [==============================] - 21s 10ms/step - loss: 0.0322 - val_loss: 0.0292\n",
      "Epoch 43/50\n",
      "2171/2171 [==============================] - 21s 10ms/step - loss: 0.0320 - val_loss: 0.0287\n",
      "Epoch 44/50\n",
      "2171/2171 [==============================] - 21s 10ms/step - loss: 0.0318 - val_loss: 0.0286\n",
      "Epoch 45/50\n",
      "2171/2171 [==============================] - 21s 10ms/step - loss: 0.0317 - val_loss: 0.0287\n",
      "Epoch 46/50\n",
      "2171/2171 [==============================] - 21s 10ms/step - loss: 0.0316 - val_loss: 0.0287\n",
      "Epoch 47/50\n",
      "2171/2171 [==============================] - 21s 10ms/step - loss: 0.0315 - val_loss: 0.0285\n",
      "Epoch 48/50\n",
      "2171/2171 [==============================] - 21s 10ms/step - loss: 0.0313 - val_loss: 0.0282\n",
      "Epoch 49/50\n",
      "2171/2171 [==============================] - 21s 10ms/step - loss: 0.0312 - val_loss: 0.0281\n",
      "Epoch 50/50\n",
      "2171/2171 [==============================] - 21s 10ms/step - loss: 0.0311 - val_loss: 0.0282\n"
     ]
    }
   ],
   "source": [
    "nb_epochs = 50\n",
    "batch_size = 64\n",
    "history = model.fit(X_train, X_train, epochs=nb_epochs, batch_size=batch_size, validation_split=0.2).history"
   ]
  },
  {
   "cell_type": "code",
   "execution_count": 9,
   "metadata": {},
   "outputs": [
    {
     "data": {
      "text/plain": [
       "<matplotlib.legend.Legend at 0x17f499c5520>"
      ]
     },
     "execution_count": 9,
     "metadata": {},
     "output_type": "execute_result"
    },
    {
     "data": {
      "image/png": "[encoded data removed]",
      "text/plain": [
       "<Figure size 640x480 with 1 Axes>"
      ]
     },
     "metadata": {},
     "output_type": "display_data"
    }
   ],
   "source": [
    "plt.plot(history['loss'], label='Training loss')\n",
    "plt.plot(history['val_loss'], label='Validation loss')\n",
    "plt.legend()\n"
   ]
  },
  {
   "cell_type": "code",
   "execution_count": 10,
   "metadata": {},
   "outputs": [
    {
     "name": "stdout",
     "output_type": "stream",
     "text": [
      "Reconstruction error threshold: 0.250201940536499\n"
     ]
    },
    {
     "data": {
      "image/png": "[encoded data removed]",
      "text/plain": [
       "<Figure size 640x480 with 1 Axes>"
      ]
     },
     "metadata": {},
     "output_type": "display_data"
    }
   ],
   "source": [
    "#Find MAE loss on training samples\n",
    "X_train_pred = model.predict(X_train, verbose=0)\n",
    "train_mae_loss = np.mean(np.abs(flatten(X_train_pred) - flatten(X_train)), axis=1)\n",
    "\n",
    "\n",
    "plt.hist(train_mae_loss, bins=50)\n",
    "plt.xlabel('Train MAE loss')\n",
    "plt.ylabel('Number of Samples')\n",
    "\n",
    "threshold = np.max(train_mae_loss)\n",
    "print(f'Reconstruction error threshold: {threshold}')\n"
   ]
  },
  {
   "cell_type": "code",
   "execution_count": 11,
   "metadata": {},
   "outputs": [
    {
     "name": "stdout",
     "output_type": "stream",
     "text": [
      "Reconstruction error threshold on 90 percentile: 0.048849263990422345\n"
     ]
    }
   ],
   "source": [
    "#90 percentile\n",
    "threshold = np.percentile(train_mae_loss, 95)\n",
    "print(f'Reconstruction error threshold on 90 percentile: {threshold}')"
   ]
  },
  {
   "cell_type": "code",
   "execution_count": 12,
   "metadata": {},
   "outputs": [],
   "source": [
    "#store model\n",
    "model.save(AUTOENCODER_DIR / 'lstm_autoencoder.h5')\n",
    "\n",
    "#store scaler\n",
    "#joblib.dump(scaler, AUTOENCODER_DIR / 'scaler.pkl')"
   ]
  }
 ],
 "metadata": {
  "kernelspec": {
   "display_name": "aml",
   "language": "python",
   "name": "python3"
  },
  "language_info": {
   "codemirror_mode": {
    "name": "ipython",
    "version": 3
   },
   "file_extension": ".py",
   "mimetype": "text/x-python",
   "name": "python",
   "nbconvert_exporter": "python",
   "pygments_lexer": "ipython3",
   "version": "3.9.16"
  },
  "orig_nbformat": 4,
  "vscode": {
   "interpreter": {
    "hash": "a9fa21406ecdfdb876493ce8c99362f54a867499c2f065970c4b152cdbf83136"
   }
  }
 },
 "nbformat": 4,
 "nbformat_minor": 2
}
