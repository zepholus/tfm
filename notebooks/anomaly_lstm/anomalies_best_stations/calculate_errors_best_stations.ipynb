{
 "cells": [
  {
   "cell_type": "code",
   "execution_count": 33,
   "metadata": {},
   "outputs": [
    {
     "name": "stdout",
     "output_type": "stream",
     "text": [
      "The autoreload extension is already loaded. To reload it, use:\n",
      "  %reload_ext autoreload\n"
     ]
    }
   ],
   "source": [
    "%load_ext autoreload\n",
    "%autoreload 2"
   ]
  },
  {
   "cell_type": "code",
   "execution_count": 34,
   "metadata": {},
   "outputs": [],
   "source": [
    "from config.config import LSTM_DATA_DIR, OBSERVACIONS_FILTRAT_DIR, LSTM_PREDICTIONS_DIR, OBSERVACIONS_DIR, AUTOENCODER_DIR\n",
    "import pandas as pd\n",
    "import os\n",
    "from keras.preprocessing.sequence import TimeseriesGenerator\n",
    "import numpy as np\n",
    "from keras.layers import Input, Dropout, Dense, LSTM, TimeDistributed, RepeatVector\n",
    "from keras import regularizers\n",
    "from keras.models import Model\n",
    "from sklearn.preprocessing import MinMaxScaler, StandardScaler\n",
    "import matplotlib.pyplot as plt\n",
    "import joblib\n",
    "from src.LSTM import flatten, scale_data_anomaly_detection\n",
    "from src.utils import parse_station"
   ]
  },
  {
   "cell_type": "code",
   "execution_count": 35,
   "metadata": {},
   "outputs": [],
   "source": [
    "#get all the files in the directory\n",
    "files = os.listdir(LSTM_PREDICTIONS_DIR)"
   ]
  },
  {
   "cell_type": "code",
   "execution_count": 36,
   "metadata": {},
   "outputs": [
    {
     "name": "stdout",
     "output_type": "stream",
     "text": [
      "30/30 [==============================] - 1s 8ms/step\n",
      "30/30 [==============================] - 1s 11ms/step\n",
      "aaa 0.2226713530528429\n",
      "0.2226713530528429\n",
      "30/30 [==============================] - 0s 8ms/step\n",
      "30/30 [==============================] - 0s 8ms/step\n",
      "30/30 [==============================] - 0s 6ms/step\n",
      "30/30 [==============================] - 1s 11ms/step\n",
      "30/30 [==============================] - 1s 11ms/step\n",
      "30/30 [==============================] - 1s 13ms/step\n",
      "aaa 0.21289693739516902\n",
      "0.21289693739516902\n",
      "30/30 [==============================] - 0s 7ms/step\n",
      "30/30 [==============================] - 0s 7ms/step\n",
      "30/30 [==============================] - 1s 11ms/step\n",
      "30/30 [==============================] - 1s 12ms/step\n",
      "aaa 0.32709936712823073\n",
      "0.32709936712823073\n",
      "30/30 [==============================] - 1s 12ms/step\n",
      "30/30 [==============================] - 0s 10ms/step\n",
      "30/30 [==============================] - 0s 8ms/step\n",
      "30/30 [==============================] - 0s 9ms/step\n",
      "30/30 [==============================] - 1s 12ms/step\n",
      "30/30 [==============================] - 1s 11ms/step\n",
      "aaa 0.31185743627751294\n",
      "0.31185743627751294\n",
      "30/30 [==============================] - 0s 10ms/step\n",
      "aaa 0.2729130042816642\n",
      "0.2729130042816642\n",
      "30/30 [==============================] - 1s 13ms/step\n",
      "aaa 0.2625266647307024\n",
      "0.2625266647307024\n",
      "30/30 [==============================] - 0s 7ms/step\n",
      "aaa 0.21674448885347253\n",
      "0.21674448885347253\n",
      "30/30 [==============================] - 0s 8ms/step\n",
      "30/30 [==============================] - 0s 8ms/step\n",
      "aaa 0.2977301556588704\n",
      "0.2977301556588704\n",
      "30/30 [==============================] - 0s 10ms/step\n",
      "30/30 [==============================] - 1s 11ms/step\n",
      "30/30 [==============================] - 1s 10ms/step\n",
      "30/30 [==============================] - 0s 10ms/step\n",
      "aaa 0.39996853081903627\n",
      "0.39996853081903627\n",
      "30/30 [==============================] - 0s 8ms/step\n",
      "30/30 [==============================] - 0s 7ms/step\n",
      "aaa 0.45428526017513327\n",
      "0.45428526017513327\n",
      "30/30 [==============================] - 0s 7ms/step\n",
      "30/30 [==============================] - 0s 10ms/step\n",
      "aaa 0.2081903731298853\n",
      "0.2081903731298853\n",
      "30/30 [==============================] - 0s 10ms/step\n",
      "30/30 [==============================] - 0s 10ms/step\n",
      "30/30 [==============================] - 0s 8ms/step\n",
      "30/30 [==============================] - 0s 6ms/step\n",
      "aaa 0.5338191217929905\n",
      "0.5338191217929905\n",
      "30/30 [==============================] - 0s 10ms/step\n"
     ]
    }
   ],
   "source": [
    "data_all_stations = []\n",
    "data_all_stations_test = []\n",
    "normalization_features = []\n",
    "input_length = 14\n",
    "\n",
    "#read all the files that are csv\n",
    "for file in files:\n",
    "    if file.endswith(\".csv\"):\n",
    "\n",
    "        lstm_fitted = parse_station(file.replace('.csv', '_stats.csv'), only_testing = True)\n",
    "        nash = lstm_fitted.nash()\n",
    "\n",
    "    \n",
    "        if nash > 0.2:\n",
    "            print('aaa', nash)\n",
    "            df = pd.read_csv(os.path.join(LSTM_PREDICTIONS_DIR / file))\n",
    "\n",
    "            df['ds'] = pd.to_datetime(df['ds'])\n",
    "\n",
    "            #marquem com a anomalia els valors que son nans al fitxer observacions_filtrat pero no al fitxer observacions original\n",
    "            df_observacions_originals = pd.read_csv(os.path.join(OBSERVACIONS_DIR / file), parse_dates = ['Date'])\n",
    "            df_observacions_filtrades = pd.read_csv(os.path.join(OBSERVACIONS_FILTRAT_DIR / file), parse_dates = ['Date'])\n",
    "\n",
    "            df_observacions_originals.rename(columns = {'Date': 'ds', 'Flow': 'y_original'}, inplace = True)\n",
    "            df_observacions_filtrades.rename(columns = {'Date': 'ds', 'Flow': 'y_original_filtrades'}, inplace = True)\n",
    "\n",
    "            df = df.merge(df_observacions_originals, on = 'ds', how = 'left')\n",
    "            df = df.merge(df_observacions_filtrades, on = 'ds', how = 'left')\n",
    "\n",
    "\n",
    "            #add column is anomaly, if y_original is not na and y_original_filtrades is na, then is anomaly\n",
    "            #df['is_anomaly'] = df['y_original'].notna() & df['y_original_filtrades'].isna()\n",
    "            df['is_anomaly'] = df['y_original_filtrades'].isna()    #train autoencoder without anomaly or empty data\n",
    "\n",
    "            #Afegim els 150 de la finestra de look-back (traiem l'últim 15% tenint en compte la serie sencera)\n",
    "            n = len(df) + 150 \n",
    "\n",
    "            df_train = df[:int(n*0.85)]\n",
    "            df_test = df[int(n*0.85):]\n",
    "\n",
    "\n",
    "            #duplicate last row with concat\n",
    "            df_train = pd.concat([df_train, df_train.iloc[[-1]]])\n",
    "            df_test = pd.concat([df_test, df_test.iloc[[-1]]])\n",
    "\n",
    "            #move is_anomaly values to next row. That way, generator will return [(sliding window of 14 values, is_anomaly of 14th value))]\n",
    "            df_train['is_anomaly'] = df_train['is_anomaly'].shift(+1)\n",
    "            df_test['is_anomaly'] = df_test['is_anomaly'].shift(+1)\n",
    "\n",
    "            generator = TimeseriesGenerator(df_train[['y', 'yhat']].values, df_train['is_anomaly'].values, length=14, batch_size=1)\n",
    "            test_generator = TimeseriesGenerator(df_test[['y', 'yhat']].values, df_test['is_anomaly'].values, length=14, batch_size=1)\n",
    "\n",
    "\n",
    "            merged_generator = np.array([sample[0][0] for sample in generator if not sample[1][0]])\n",
    "            merged_generator_test = np.array([sample[0][0] for sample in test_generator if not sample[1][0]])\n",
    "\n",
    "            data_all_stations.extend(merged_generator)\n",
    "            data_all_stations_test.extend(merged_generator_test)\n",
    "\n",
    "            print(nash)"
   ]
  },
  {
   "cell_type": "code",
   "execution_count": 37,
   "metadata": {},
   "outputs": [],
   "source": [
    "X_train = scale_data_anomaly_detection(data_all_stations)\n",
    "X_test = scale_data_anomaly_detection(data_all_stations_test)"
   ]
  },
  {
   "cell_type": "code",
   "execution_count": 38,
   "metadata": {},
   "outputs": [],
   "source": [
    "def autoencoder_model(X):\n",
    "    inputs = Input(shape = (X.shape[1], X.shape[2]))\n",
    "    L1 = LSTM(32, return_sequences=True)(inputs)\n",
    "    L2 = LSTM(16, return_sequences=False)(L1)\n",
    "    L3 = RepeatVector(X.shape[1])(L2)\n",
    "    L4 = LSTM(16, return_sequences=True)(L3)\n",
    "    L5 = LSTM(32, return_sequences=True)(L4)\n",
    "    output = TimeDistributed(Dense(X.shape[2]))(L5)\n",
    "    model = Model(inputs=inputs, outputs=output)\n",
    "    return model"
   ]
  },
  {
   "cell_type": "code",
   "execution_count": 39,
   "metadata": {},
   "outputs": [
    {
     "name": "stdout",
     "output_type": "stream",
     "text": [
      "Model: \"model_2\"\n",
      "_________________________________________________________________\n",
      " Layer (type)                Output Shape              Param #   \n",
      "=================================================================\n",
      " input_3 (InputLayer)        [(None, 14, 2)]           0         \n",
      "                                                                 \n",
      " lstm_8 (LSTM)               (None, 14, 32)            4480      \n",
      "                                                                 \n",
      " lstm_9 (LSTM)               (None, 16)                3136      \n",
      "                                                                 \n",
      " repeat_vector_2 (RepeatVect  (None, 14, 16)           0         \n",
      " or)                                                             \n",
      "                                                                 \n",
      " lstm_10 (LSTM)              (None, 14, 16)            2112      \n",
      "                                                                 \n",
      " lstm_11 (LSTM)              (None, 14, 32)            6272      \n",
      "                                                                 \n",
      " time_distributed_2 (TimeDis  (None, 14, 2)            66        \n",
      " tributed)                                                       \n",
      "                                                                 \n",
      "=================================================================\n",
      "Total params: 16,066\n",
      "Trainable params: 16,066\n",
      "Non-trainable params: 0\n",
      "_________________________________________________________________\n"
     ]
    }
   ],
   "source": [
    "model = autoencoder_model(X_train)\n",
    "model.compile(optimizer='adam', loss='mae')\n",
    "model.summary()"
   ]
  },
  {
   "cell_type": "code",
   "execution_count": 40,
   "metadata": {},
   "outputs": [
    {
     "name": "stdout",
     "output_type": "stream",
     "text": [
      "Epoch 1/50\n",
      "799/799 [==============================] - 11s 11ms/step - loss: 0.1207 - val_loss: 0.0977\n",
      "Epoch 2/50\n",
      "799/799 [==============================] - 8s 10ms/step - loss: 0.0934 - val_loss: 0.0917\n",
      "Epoch 3/50\n",
      "799/799 [==============================] - 8s 10ms/step - loss: 0.0856 - val_loss: 0.0844\n",
      "Epoch 4/50\n",
      "799/799 [==============================] - 8s 10ms/step - loss: 0.0804 - val_loss: 0.0809\n",
      "Epoch 5/50\n",
      "799/799 [==============================] - 8s 10ms/step - loss: 0.0776 - val_loss: 0.0778\n",
      "Epoch 6/50\n",
      "799/799 [==============================] - 8s 10ms/step - loss: 0.0747 - val_loss: 0.0747\n",
      "Epoch 7/50\n",
      "799/799 [==============================] - 8s 10ms/step - loss: 0.0714 - val_loss: 0.0735\n",
      "Epoch 8/50\n",
      "799/799 [==============================] - 8s 10ms/step - loss: 0.0697 - val_loss: 0.0715\n",
      "Epoch 9/50\n",
      "799/799 [==============================] - 8s 10ms/step - loss: 0.0684 - val_loss: 0.0696\n",
      "Epoch 10/50\n",
      "799/799 [==============================] - 8s 10ms/step - loss: 0.0676 - val_loss: 0.0690\n",
      "Epoch 11/50\n",
      "799/799 [==============================] - 8s 10ms/step - loss: 0.0667 - val_loss: 0.0690\n",
      "Epoch 12/50\n",
      "799/799 [==============================] - 8s 10ms/step - loss: 0.0659 - val_loss: 0.0674\n",
      "Epoch 13/50\n",
      "799/799 [==============================] - 8s 10ms/step - loss: 0.0650 - val_loss: 0.0654\n",
      "Epoch 14/50\n",
      "799/799 [==============================] - 8s 10ms/step - loss: 0.0633 - val_loss: 0.0638\n",
      "Epoch 15/50\n",
      "799/799 [==============================] - 8s 10ms/step - loss: 0.0617 - val_loss: 0.0630\n",
      "Epoch 16/50\n",
      "799/799 [==============================] - 8s 10ms/step - loss: 0.0603 - val_loss: 0.0611\n",
      "Epoch 17/50\n",
      "799/799 [==============================] - 8s 10ms/step - loss: 0.0592 - val_loss: 0.0604\n",
      "Epoch 18/50\n",
      "799/799 [==============================] - 8s 10ms/step - loss: 0.0578 - val_loss: 0.0580\n",
      "Epoch 19/50\n",
      "799/799 [==============================] - 8s 10ms/step - loss: 0.0567 - val_loss: 0.0563\n",
      "Epoch 20/50\n",
      "799/799 [==============================] - 8s 10ms/step - loss: 0.0557 - val_loss: 0.0562\n",
      "Epoch 21/50\n",
      "799/799 [==============================] - 8s 10ms/step - loss: 0.0550 - val_loss: 0.0563\n",
      "Epoch 22/50\n",
      "799/799 [==============================] - 8s 10ms/step - loss: 0.0543 - val_loss: 0.0541\n",
      "Epoch 23/50\n",
      "799/799 [==============================] - 8s 10ms/step - loss: 0.0536 - val_loss: 0.0543\n",
      "Epoch 24/50\n",
      "799/799 [==============================] - 8s 10ms/step - loss: 0.0530 - val_loss: 0.0533\n",
      "Epoch 25/50\n",
      "799/799 [==============================] - 8s 10ms/step - loss: 0.0522 - val_loss: 0.0521\n",
      "Epoch 26/50\n",
      "799/799 [==============================] - 8s 10ms/step - loss: 0.0514 - val_loss: 0.0511\n",
      "Epoch 27/50\n",
      "799/799 [==============================] - 8s 10ms/step - loss: 0.0505 - val_loss: 0.0501\n",
      "Epoch 28/50\n",
      "799/799 [==============================] - 8s 10ms/step - loss: 0.0498 - val_loss: 0.0493\n",
      "Epoch 29/50\n",
      "799/799 [==============================] - 8s 10ms/step - loss: 0.0489 - val_loss: 0.0486\n",
      "Epoch 30/50\n",
      "799/799 [==============================] - 8s 10ms/step - loss: 0.0482 - val_loss: 0.0479\n",
      "Epoch 31/50\n",
      "799/799 [==============================] - 8s 11ms/step - loss: 0.0474 - val_loss: 0.0468\n",
      "Epoch 32/50\n",
      "799/799 [==============================] - 8s 11ms/step - loss: 0.0467 - val_loss: 0.0465\n",
      "Epoch 33/50\n",
      "799/799 [==============================] - 9s 11ms/step - loss: 0.0459 - val_loss: 0.0449\n",
      "Epoch 34/50\n",
      "799/799 [==============================] - 8s 11ms/step - loss: 0.0453 - val_loss: 0.0451\n",
      "Epoch 35/50\n",
      "799/799 [==============================] - 8s 10ms/step - loss: 0.0448 - val_loss: 0.0436\n",
      "Epoch 36/50\n",
      "799/799 [==============================] - 8s 10ms/step - loss: 0.0444 - val_loss: 0.0440\n",
      "Epoch 37/50\n",
      "799/799 [==============================] - 8s 10ms/step - loss: 0.0439 - val_loss: 0.0432\n",
      "Epoch 38/50\n",
      "799/799 [==============================] - 8s 10ms/step - loss: 0.0435 - val_loss: 0.0425\n",
      "Epoch 39/50\n",
      "799/799 [==============================] - 9s 11ms/step - loss: 0.0432 - val_loss: 0.0423\n",
      "Epoch 40/50\n",
      "799/799 [==============================] - 8s 10ms/step - loss: 0.0428 - val_loss: 0.0421\n",
      "Epoch 41/50\n",
      "799/799 [==============================] - 8s 10ms/step - loss: 0.0424 - val_loss: 0.0414\n",
      "Epoch 42/50\n",
      "799/799 [==============================] - 8s 10ms/step - loss: 0.0419 - val_loss: 0.0413\n",
      "Epoch 43/50\n",
      "799/799 [==============================] - 8s 10ms/step - loss: 0.0414 - val_loss: 0.0407\n",
      "Epoch 44/50\n",
      "799/799 [==============================] - 8s 10ms/step - loss: 0.0409 - val_loss: 0.0398\n",
      "Epoch 45/50\n",
      "799/799 [==============================] - 8s 10ms/step - loss: 0.0404 - val_loss: 0.0390\n",
      "Epoch 46/50\n",
      "799/799 [==============================] - 8s 10ms/step - loss: 0.0402 - val_loss: 0.0388\n",
      "Epoch 47/50\n",
      "799/799 [==============================] - 8s 10ms/step - loss: 0.0398 - val_loss: 0.0392\n",
      "Epoch 48/50\n",
      "799/799 [==============================] - 8s 10ms/step - loss: 0.0396 - val_loss: 0.0387\n",
      "Epoch 49/50\n",
      "799/799 [==============================] - 8s 10ms/step - loss: 0.0392 - val_loss: 0.0385\n",
      "Epoch 50/50\n",
      "799/799 [==============================] - 8s 10ms/step - loss: 0.0390 - val_loss: 0.0375\n"
     ]
    }
   ],
   "source": [
    "nb_epochs = 50\n",
    "batch_size = 64\n",
    "history = model.fit(X_train, X_train, epochs=nb_epochs, batch_size=batch_size, validation_split=0.2).history"
   ]
  },
  {
   "cell_type": "code",
   "execution_count": 41,
   "metadata": {},
   "outputs": [
    {
     "data": {
      "text/plain": [
       "<matplotlib.legend.Legend at 0x1a0f37c39a0>"
      ]
     },
     "execution_count": 41,
     "metadata": {},
     "output_type": "execute_result"
    },
    {
     "data": {
      "image/png": "[encoded data removed]",
      "text/plain": [
       "<Figure size 640x480 with 1 Axes>"
      ]
     },
     "metadata": {},
     "output_type": "display_data"
    }
   ],
   "source": [
    "plt.plot(history['loss'], label='Training loss')\n",
    "plt.plot(history['val_loss'], label='Validation loss')\n",
    "plt.legend()\n"
   ]
  },
  {
   "cell_type": "code",
   "execution_count": 42,
   "metadata": {},
   "outputs": [
    {
     "name": "stdout",
     "output_type": "stream",
     "text": [
      "Reconstruction error threshold: 0.33636200112593584\n"
     ]
    },
    {
     "data": {
      "image/png": "[encoded data removed]",
      "text/plain": [
       "<Figure size 640x480 with 1 Axes>"
      ]
     },
     "metadata": {},
     "output_type": "display_data"
    }
   ],
   "source": [
    "#Find MAE loss on training samples\n",
    "X_train_pred = model.predict(X_train, verbose=0)\n",
    "train_mae_loss = np.mean(np.abs(flatten(X_train_pred) - flatten(X_train)), axis=1)\n",
    "\n",
    "\n",
    "plt.hist(train_mae_loss, bins=50)\n",
    "plt.xlabel('Train MAE loss')\n",
    "plt.ylabel('Number of Samples')\n",
    "\n",
    "threshold = np.max(train_mae_loss)\n",
    "print(f'Reconstruction error threshold: {threshold}')\n"
   ]
  },
  {
   "cell_type": "code",
   "execution_count": 43,
   "metadata": {},
   "outputs": [
    {
     "name": "stdout",
     "output_type": "stream",
     "text": [
      "Reconstruction error threshold on 90 percentile: 0.09277027962005668\n"
     ]
    }
   ],
   "source": [
    "#90 percentile\n",
    "threshold = np.percentile(train_mae_loss, 95)\n",
    "print(f'Reconstruction error threshold on 90 percentile: {threshold}')"
   ]
  },
  {
   "cell_type": "code",
   "execution_count": 44,
   "metadata": {},
   "outputs": [],
   "source": [
    "#store model\n",
    "model.save(AUTOENCODER_DIR / 'lstm_autoencoder.h5')\n",
    "\n",
    "#store scaler\n",
    "#joblib.dump(scaler, AUTOENCODER_DIR / 'scaler.pkl')"
   ]
  }
 ],
 "metadata": {
  "kernelspec": {
   "display_name": "aml",
   "language": "python",
   "name": "python3"
  },
  "language_info": {
   "codemirror_mode": {
    "name": "ipython",
    "version": 3
   },
   "file_extension": ".py",
   "mimetype": "text/x-python",
   "name": "python",
   "nbconvert_exporter": "python",
   "pygments_lexer": "ipython3",
   "version": "3.9.16"
  },
  "orig_nbformat": 4,
  "vscode": {
   "interpreter": {
    "hash": "a9fa21406ecdfdb876493ce8c99362f54a867499c2f065970c4b152cdbf83136"
   }
  }
 },
 "nbformat": 4,
 "nbformat_minor": 2
}
