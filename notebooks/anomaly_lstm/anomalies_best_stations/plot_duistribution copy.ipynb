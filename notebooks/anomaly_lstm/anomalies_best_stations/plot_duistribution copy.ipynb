{
 "cells": [
  {
   "cell_type": "code",
   "execution_count": 26,
   "metadata": {},
   "outputs": [
    {
     "name": "stdout",
     "output_type": "stream",
     "text": [
      "The autoreload extension is already loaded. To reload it, use:\n",
      "  %reload_ext autoreload\n"
     ]
    }
   ],
   "source": [
    "%load_ext autoreload\n",
    "%autoreload 2"
   ]
  },
  {
   "cell_type": "code",
   "execution_count": 27,
   "metadata": {},
   "outputs": [],
   "source": [
    "from config.config import LSTM_DATA_DIR, OBSERVACIONS_FILTRAT_DIR, LSTM_PREDICTIONS_DIR, OBSERVACIONS_DIR, AUTOENCODER_DIR, UNGAUGED_DIR\n",
    "import pandas as pd\n",
    "import os\n",
    "from keras.preprocessing.sequence import TimeseriesGenerator\n",
    "import numpy as np\n",
    "from keras import regularizers\n",
    "from keras.models import Model\n",
    "from sklearn.preprocessing import MinMaxScaler, StandardScaler\n",
    "import matplotlib.pyplot as plt\n",
    "import joblib\n",
    "from src.LSTM import flatten, scale_data_anomaly_detection\n",
    "from keras.models import load_model\n",
    "from src.LSTM import LSTM\n",
    "from src.utils import parse_station\n"
   ]
  },
  {
   "cell_type": "code",
   "execution_count": 28,
   "metadata": {},
   "outputs": [],
   "source": [
    "#get all the files in the directory\n",
    "files = os.listdir(LSTM_PREDICTIONS_DIR)\n",
    "ungauged_files = os.listdir(UNGAUGED_DIR)\n"
   ]
  },
  {
   "cell_type": "code",
   "execution_count": 29,
   "metadata": {},
   "outputs": [
    {
     "name": "stdout",
     "output_type": "stream",
     "text": [
      "30/30 [==============================] - 1s 12ms/step\n",
      "30/30 [==============================] - 1s 12ms/step\n",
      "30/30 [==============================] - 1s 13ms/step\n",
      "30/30 [==============================] - 1s 13ms/step\n",
      "30/30 [==============================] - 1s 10ms/step\n",
      "30/30 [==============================] - 1s 14ms/step\n",
      "30/30 [==============================] - 1s 11ms/step\n",
      "30/30 [==============================] - 1s 13ms/step\n",
      "30/30 [==============================] - 1s 12ms/step\n",
      "30/30 [==============================] - 0s 10ms/step\n",
      "30/30 [==============================] - 1s 12ms/step\n",
      "30/30 [==============================] - 1s 13ms/step\n",
      "30/30 [==============================] - 0s 10ms/step\n",
      "30/30 [==============================] - 1s 12ms/step\n",
      "30/30 [==============================] - 0s 10ms/step\n",
      "30/30 [==============================] - 1s 11ms/step\n",
      "30/30 [==============================] - 1s 10ms/step\n",
      "30/30 [==============================] - 1s 13ms/step\n",
      "30/30 [==============================] - 1s 12ms/step\n",
      "30/30 [==============================] - 0s 7ms/step\n",
      "30/30 [==============================] - 0s 6ms/step\n",
      "30/30 [==============================] - 1s 13ms/step\n",
      "30/30 [==============================] - 0s 10ms/step\n",
      "30/30 [==============================] - 1s 13ms/step\n",
      "30/30 [==============================] - 0s 10ms/step\n",
      "30/30 [==============================] - 0s 10ms/step\n",
      "30/30 [==============================] - 1s 11ms/step\n",
      "30/30 [==============================] - 1s 11ms/step\n",
      "30/30 [==============================] - 0s 9ms/step\n",
      "30/30 [==============================] - 1s 13ms/step\n",
      "30/30 [==============================] - 0s 9ms/step\n",
      "30/30 [==============================] - 1s 11ms/step\n",
      "30/30 [==============================] - 1s 14ms/step\n",
      "30/30 [==============================] - 1s 13ms/step\n",
      "30/30 [==============================] - 1s 7ms/step\n",
      "30/30 [==============================] - 1s 11ms/step\n"
     ]
    }
   ],
   "source": [
    "data_all_stations = []\n",
    "data_all_stations_test = []\n",
    "data_all_stations_anomaly = []\n",
    "data_all_stations_test_anomaly = []\n",
    "normalization_features = []\n",
    "input_length = 14\n",
    "\n",
    "#read all the files that are csv\n",
    "for file in files:\n",
    "    if file.endswith(\".csv\"):\n",
    "\n",
    "        lstm_fitted = parse_station(file.replace('.csv', '_stats.csv'), only_testing = True)\n",
    "        nash = lstm_fitted.nash()\n",
    "\n",
    "        if nash > 0.2:\n",
    "\n",
    "            df = pd.read_csv(os.path.join(LSTM_PREDICTIONS_DIR / file))\n",
    "\n",
    "            df['ds'] = pd.to_datetime(df['ds'])\n",
    "\n",
    "            #marquem com a anomalia els valors que son nans al fitxer observacions_filtrat pero no al fitxer observacions original\n",
    "            df_observacions_originals = pd.read_csv(os.path.join(OBSERVACIONS_DIR / file), parse_dates = ['Date'])\n",
    "            df_observacions_filtrades = pd.read_csv(os.path.join(OBSERVACIONS_FILTRAT_DIR / file), parse_dates = ['Date'])\n",
    "\n",
    "            df_observacions_originals.rename(columns = {'Date': 'ds', 'Flow': 'y_original'}, inplace = True)\n",
    "            df_observacions_filtrades.rename(columns = {'Date': 'ds', 'Flow': 'y_original_filtrades'}, inplace = True)\n",
    "\n",
    "            df = df.merge(df_observacions_originals, on = 'ds', how = 'left')\n",
    "            df = df.merge(df_observacions_filtrades, on = 'ds', how = 'left')\n",
    "\n",
    "\n",
    "            #add column is anomaly, if y_original is not na and y_original_filtrades is na, then is anomaly\n",
    "            #df['is_anomaly'] = df['y_original'].notna() & df['y_original_filtrades'].isna()\n",
    "            df['is_anomaly'] = df['y_original_filtrades'].isna()    #train autoencoder without anomaly or empty data\n",
    "\n",
    "            #Afegim els 150 de la finestra de look-back (traiem l'últim 15% tenint en compte la serie sencera)\n",
    "            n = len(df) + 150 \n",
    "\n",
    "            df_train = df[:int(n*0.85)]\n",
    "            df_test = df[int(n*0.85):]\n",
    "\n",
    "\n",
    "            #duplicate last row with concat\n",
    "            df_train = pd.concat([df_train, df_train.iloc[[-1]]])\n",
    "            df_test = pd.concat([df_test, df_test.iloc[[-1]]])\n",
    "\n",
    "            #move is_anomaly values to next row. That way, generator will return [(sliding window of 14 values, is_anomaly of 14th value))]\n",
    "            df_train['is_anomaly'] = df_train['is_anomaly'].shift(+1)\n",
    "            df_test['is_anomaly'] = df_test['is_anomaly'].shift(+1)\n",
    "\n",
    "            generator = TimeseriesGenerator(df_train[['y', 'yhat']].values, df_train['is_anomaly'].values, length=14, batch_size=1)\n",
    "            test_generator = TimeseriesGenerator(df_test[['y', 'yhat']].values, df_test['is_anomaly'].values, length=14, batch_size=1)\n",
    "\n",
    "\n",
    "            merged_generator = np.array([sample[0][0] for sample in generator if not sample[1][0]])\n",
    "            merged_generator_test = np.array([sample[0][0] for sample in test_generator if not sample[1][0]])\n",
    "\n",
    "            merged_generator_anomaly = np.array([sample[0][0] for sample in generator if sample[1][0] and not np.isnan(sample[0][0][-1][0])])\n",
    "            merged_generator_test_anomaly = np.array([sample[0][0] for sample in test_generator if sample[1][0] and not np.isnan(sample[0][0][-1][0])])\n",
    "\n",
    "\n",
    "            data_all_stations.extend(merged_generator)\n",
    "            data_all_stations_test.extend(merged_generator_test)\n",
    "\n",
    "            data_all_stations_anomaly.extend(merged_generator_anomaly)\n",
    "            data_all_stations_test_anomaly.extend(merged_generator_test_anomaly)"
   ]
  },
  {
   "cell_type": "code",
   "execution_count": 30,
   "metadata": {},
   "outputs": [
    {
     "data": {
      "text/plain": [
       "\"\\n#read all the files that are csv\\nfor station in ungauged_files:\\n\\n    observations = pd.read_csv(OBSERVACIONS_DIR / station, index_col = 0, parse_dates = True)\\n    stats = pd.read_csv(UNGAUGED_DIR / station, parse_dates = True)\\n    stats.rename(columns = {'datetime': 'ds'}, inplace = True)\\n\\n    #Replace valid observations for all observations\\n    stats['y'] = observations['Flow'].astype('float32').values\\n    stats.drop(columns = ['Flow'], inplace = True)\\n    lstm_model = LSTM(station_name = station, model_with_flow=False, transfer_learning=False)\\n    lstm_fitted = lstm_model.fit(stats)\\n    df = lstm_fitted.get_df()\\n\\n    df['is_anomaly'] = True\\n\\n    #duplicate last row with concat\\n    df_train = pd.concat([df, df.iloc[[-1]]])\\n    \\n    #move is_anomaly values to next row. That way, generator will return [(sliding window of 14 values, is_anomaly of 14th value))]\\n    df_train['is_anomaly'] = df_train['is_anomaly'].shift(+1)\\n\\n    generator = TimeseriesGenerator(df_train[['y', 'yhat']].values, df_train['is_anomaly'].values, length=14, batch_size=1)\\n    merged_generator_test_anomaly = np.array([sample[0][0] for sample in generator if not sample[1][0]])\\n    data_all_stations_test_anomaly.extend(merged_generator_test_anomaly)\\n\""
      ]
     },
     "execution_count": 30,
     "metadata": {},
     "output_type": "execute_result"
    }
   ],
   "source": [
    "\"\"\"\n",
    "#read all the files that are csv\n",
    "for station in ungauged_files:\n",
    "\n",
    "    observations = pd.read_csv(OBSERVACIONS_DIR / station, index_col = 0, parse_dates = True)\n",
    "    stats = pd.read_csv(UNGAUGED_DIR / station, parse_dates = True)\n",
    "    stats.rename(columns = {'datetime': 'ds'}, inplace = True)\n",
    "\n",
    "    #Replace valid observations for all observations\n",
    "    stats['y'] = observations['Flow'].astype('float32').values\n",
    "    stats.drop(columns = ['Flow'], inplace = True)\n",
    "    lstm_model = LSTM(station_name = station, model_with_flow=False, transfer_learning=False)\n",
    "    lstm_fitted = lstm_model.fit(stats)\n",
    "    df = lstm_fitted.get_df()\n",
    "\n",
    "    df['is_anomaly'] = True\n",
    "\n",
    "    #duplicate last row with concat\n",
    "    df_train = pd.concat([df, df.iloc[[-1]]])\n",
    "    \n",
    "    #move is_anomaly values to next row. That way, generator will return [(sliding window of 14 values, is_anomaly of 14th value))]\n",
    "    df_train['is_anomaly'] = df_train['is_anomaly'].shift(+1)\n",
    "\n",
    "    generator = TimeseriesGenerator(df_train[['y', 'yhat']].values, df_train['is_anomaly'].values, length=14, batch_size=1)\n",
    "    merged_generator_test_anomaly = np.array([sample[0][0] for sample in generator if not sample[1][0]])\n",
    "    data_all_stations_test_anomaly.extend(merged_generator_test_anomaly)\n",
    "\"\"\"\n"
   ]
  },
  {
   "cell_type": "code",
   "execution_count": 31,
   "metadata": {},
   "outputs": [],
   "source": [
    "X_train = scale_data_anomaly_detection(data_all_stations)\n",
    "X_test = scale_data_anomaly_detection(data_all_stations_test)\n",
    "X_train_anomaly = scale_data_anomaly_detection(data_all_stations_anomaly)\n",
    "X_test_anomaly = scale_data_anomaly_detection(data_all_stations_test_anomaly)"
   ]
  },
  {
   "cell_type": "code",
   "execution_count": 32,
   "metadata": {},
   "outputs": [],
   "source": [
    "model = load_model(AUTOENCODER_DIR / 'lstm_autoencoder.h5')"
   ]
  },
  {
   "cell_type": "code",
   "execution_count": 33,
   "metadata": {},
   "outputs": [
    {
     "name": "stdout",
     "output_type": "stream",
     "text": [
      "Reconstruction error threshold: 0.33636200112593584\n"
     ]
    },
    {
     "data": {
      "image/png": "[encoded data removed]",
      "text/plain": [
       "<Figure size 640x480 with 1 Axes>"
      ]
     },
     "metadata": {},
     "output_type": "display_data"
    }
   ],
   "source": [
    "#Find MAE loss on training samples\n",
    "X_train_pred = model.predict(X_train, verbose=0)\n",
    "train_mae_loss = np.mean(np.abs(flatten(X_train_pred) - flatten(X_train)), axis=1)\n",
    "\n",
    "\n",
    "plt.hist(train_mae_loss, bins=50)\n",
    "\n",
    "threshold = np.max(train_mae_loss)\n",
    "print(f'Reconstruction error threshold: {threshold}')\n",
    "\n",
    "#store plt in file\n",
    "plt.savefig('C:\\\\Users\\\\joans\\\\OneDrive\\\\Escriptori\\\\master\\\\tfm\\\\tfm\\\\figures\\\\anomaly distribution\\\\train_mae.png')\n"
   ]
  },
  {
   "cell_type": "code",
   "execution_count": 34,
   "metadata": {},
   "outputs": [
    {
     "name": "stdout",
     "output_type": "stream",
     "text": [
      "Reconstruction error threshold on 90 percentile: 0.09277027962005668\n"
     ]
    }
   ],
   "source": [
    "#90 percentile\n",
    "threshold = np.percentile(train_mae_loss, 95)\n",
    "print(f'Reconstruction error threshold on 90 percentile: {threshold}')"
   ]
  },
  {
   "cell_type": "code",
   "execution_count": 35,
   "metadata": {},
   "outputs": [
    {
     "data": {
      "image/png": "[encoded data removed]",
      "text/plain": [
       "<Figure size 640x480 with 1 Axes>"
      ]
     },
     "metadata": {},
     "output_type": "display_data"
    }
   ],
   "source": [
    "X_test_pred = model.predict(X_test, verbose=0)\n",
    "test_mae_loss = np.mean(np.abs(flatten(X_test_pred) - flatten(X_test)), axis=1)\n",
    "\n",
    "plt.hist(test_mae_loss, bins=50)\n",
    "plt.savefig('C:\\\\Users\\\\joans\\\\OneDrive\\\\Escriptori\\\\master\\\\tfm\\\\tfm\\\\figures\\\\anomaly distribution\\\\test_mae.png')\n"
   ]
  },
  {
   "cell_type": "code",
   "execution_count": 36,
   "metadata": {},
   "outputs": [
    {
     "data": {
      "image/png": "[encoded data removed]",
      "text/plain": [
       "<Figure size 640x480 with 1 Axes>"
      ]
     },
     "metadata": {},
     "output_type": "display_data"
    }
   ],
   "source": [
    "X_pred_anomaly = model.predict(X_train_anomaly, verbose=0)\n",
    "test_mae_loss = np.mean(np.abs(flatten(X_pred_anomaly) - flatten(X_train_anomaly)), axis=1)\n",
    "\n",
    "plt.hist(test_mae_loss, bins=50)\n",
    "plt.savefig('C:\\\\Users\\\\joans\\\\OneDrive\\\\Escriptori\\\\master\\\\tfm\\\\tfm\\\\figures\\\\anomaly distribution\\\\train_anomaly_mae.png')\n"
   ]
  },
  {
   "cell_type": "code",
   "execution_count": 37,
   "metadata": {},
   "outputs": [
    {
     "data": {
      "image/png": "[encoded data removed]",
      "text/plain": [
       "<Figure size 640x480 with 1 Axes>"
      ]
     },
     "metadata": {},
     "output_type": "display_data"
    }
   ],
   "source": [
    "X_pred_test_anomaly = model.predict(X_test_anomaly, verbose=0)\n",
    "test_mae_loss = np.mean(np.abs(flatten(X_pred_test_anomaly) - flatten(X_test_anomaly)), axis=1)\n",
    "\n",
    "plt.hist(test_mae_loss, bins=50)\n",
    "plt.savefig('C:\\\\Users\\\\joans\\\\OneDrive\\\\Escriptori\\\\master\\\\tfm\\\\tfm\\\\figures\\\\anomaly distribution\\\\test_anomaly_mae.png')\n"
   ]
  }
 ],
 "metadata": {
  "kernelspec": {
   "display_name": "aml",
   "language": "python",
   "name": "python3"
  },
  "language_info": {
   "codemirror_mode": {
    "name": "ipython",
    "version": 3
   },
   "file_extension": ".py",
   "mimetype": "text/x-python",
   "name": "python",
   "nbconvert_exporter": "python",
   "pygments_lexer": "ipython3",
   "version": "3.9.16"
  },
  "orig_nbformat": 4,
  "vscode": {
   "interpreter": {
    "hash": "a9fa21406ecdfdb876493ce8c99362f54a867499c2f065970c4b152cdbf83136"
   }
  }
 },
 "nbformat": 4,
 "nbformat_minor": 2
}
