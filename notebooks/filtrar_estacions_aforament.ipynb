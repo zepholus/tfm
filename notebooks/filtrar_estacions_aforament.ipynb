{
 "cells": [
  {
   "cell_type": "code",
   "execution_count": 18,
   "metadata": {},
   "outputs": [
    {
     "name": "stdout",
     "output_type": "stream",
     "text": [
      "The autoreload extension is already loaded. To reload it, use:\n",
      "  %reload_ext autoreload\n"
     ]
    }
   ],
   "source": [
    "%load_ext autoreload\n",
    "%autoreload 2"
   ]
  },
  {
   "cell_type": "code",
   "execution_count": 19,
   "metadata": {},
   "outputs": [],
   "source": [
    "import pandas as pd\n",
    "import shutil\n",
    "from pathlib import Path\n",
    "from config.config import OBSERVACIONS_FILTRAT_DIR, OBSERVACIONS_DIR, ESTACIONS_DIR"
   ]
  },
  {
   "cell_type": "code",
   "execution_count": 20,
   "metadata": {},
   "outputs": [],
   "source": [
    "#if path exists, delete it\n",
    "try:\n",
    "    shutil.rmtree(OBSERVACIONS_FILTRAT_DIR)\n",
    "except:\n",
    "    pass\n",
    "\n",
    "OBSERVACIONS_FILTRAT_DIR.mkdir()"
   ]
  },
  {
   "cell_type": "code",
   "execution_count": 21,
   "metadata": {},
   "outputs": [],
   "source": [
    "\"\"\"\n",
    "De totes les estacions d'aforament, les que definim a continuació són les que en gran part tenen dades que semblen correctes.\n",
    "La resta, les descartem.\n",
    "Definit per Vicenç i Laia\n",
    "\"\"\"\n",
    "\n",
    "besos  = [19,20,30,35,38,39,40,50,51,59,62]\n",
    "fluvia = [18,42,69]\n",
    "llobregat = [1,3,4,7,9,11,12,17,23,24,25,26,29,31,41,45,46,49,54,57,58,71,72]\n",
    "muga = [5,8,36,43,44,55,61]\n",
    "sud = [13,16,37,66,70]\n",
    "ter = [21,22,28,33,34,47,48,52,53,60,65,67,68,73]\n",
    "\n",
    "estacions_incloses = set(besos + fluvia + llobregat + muga + sud + ter)"
   ]
  },
  {
   "cell_type": "code",
   "execution_count": 22,
   "metadata": {},
   "outputs": [],
   "source": [
    "#Copy all files from observations to observations_filtrat\n",
    "for file in OBSERVACIONS_DIR.glob('*.csv'):\n",
    "\n",
    "    df = pd.read_csv(file)\n",
    "    \n",
    "    #Numero d'estacio\n",
    "    name_file = file.name\n",
    "    estacio = int(name_file.replace('.csv', '').replace('a', ''))\n",
    "\n",
    "    if estacio not in estacions_incloses:\n",
    "        continue\n",
    "\n",
    "    #Besòs\n",
    "    if estacio == 19:\n",
    "        df = df[(df['Date'] <= '2004-04-15') | (df['Date'] >= '2006-04-19')]\n",
    "\n",
    "    #Llobregat\n",
    "    elif estacio == 4:\n",
    "        df = df[(df['Date'] >= '2016-01-01')]\n",
    "    elif estacio == 12:\n",
    "        df = df[(df['Date'] <= '2012-08-19') | (df['Date'] >= '2015-01-01')]\n",
    "    elif estacio == 46:\n",
    "        df = df[((df['Date'] <= '2015-12-01') | (df['Date'] >= '2016-01-01')) & ((df['Date'] <= '2017-03-30') | (df['Date'] >= '2017-04-12'))]\n",
    "    \n",
    "    #Muga\n",
    "    elif estacio == 36:\n",
    "        df = df[(df['Date'] <= '2009-08-09') | (df['Date'] >= '2009-08-18')]\n",
    "    \n",
    "    #Ter\n",
    "    elif estacio == 48:\n",
    "        df = df[((df['Date'] <= '2006-01-22') | (df['Date'] >= '2008-02-27')) & (df['Date'] <= '2018-11-30')]\n",
    "    elif estacio == 60:\n",
    "        df = df[(df['Date'] <= '2015-12-31') | (df['Date'] >= '2019-10-22')]\n",
    "    elif estacio == 65:\n",
    "        df = df[((df['Date'] <= '2017-05-15') | (df['Date'] >= '2017-07-05')) & ((df['Date'] <= '2018-11-30') | (df['Date'] >= '2019-07-01'))]\n",
    "    elif estacio == 73:\n",
    "        df = df[df['Date'] != '2020-09-30']\n",
    "\n",
    "    df.to_csv(Path(OBSERVACIONS_FILTRAT_DIR, name_file), index=False)"
   ]
  }
 ],
 "metadata": {
  "kernelspec": {
   "display_name": "tfm",
   "language": "python",
   "name": "python3"
  },
  "language_info": {
   "codemirror_mode": {
    "name": "ipython",
    "version": 3
   },
   "file_extension": ".py",
   "mimetype": "text/x-python",
   "name": "python",
   "nbconvert_exporter": "python",
   "pygments_lexer": "ipython3",
   "version": "3.9.16"
  },
  "orig_nbformat": 4,
  "vscode": {
   "interpreter": {
    "hash": "d5a644dc773c5096c76f4c062a88c87f8963b6e30385533c0c0efd9c972523b3"
   }
  }
 },
 "nbformat": 4,
 "nbformat_minor": 2
}
